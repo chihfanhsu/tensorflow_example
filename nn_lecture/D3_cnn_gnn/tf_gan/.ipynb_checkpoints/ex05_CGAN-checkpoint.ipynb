{
 "cells": [
  {
   "cell_type": "code",
   "execution_count": null,
   "metadata": {},
   "outputs": [],
   "source": [
    "import tensorflow as tf\n",
    "from tensorflow.examples.tutorials.mnist import input_data\n",
    "import matplotlib.pyplot as plt\n",
    "import matplotlib.gridspec as gridspec\n",
    "import numpy as np\n",
    "import os"
   ]
  },
  {
   "cell_type": "code",
   "execution_count": null,
   "metadata": {},
   "outputs": [],
   "source": [
    "mnist = input_data.read_data_sets('./MNIST_data', one_hot=True)\n",
    "\n",
    "batch_size = 64\n",
    "Z_dim = 128\n",
    "\n",
    "# define inputs\n",
    "with tf.variable_scope(\"inputs\"):\n",
    "    X = tf.placeholder(tf.float32, shape= [None, mnist.train.images.shape[1]])\n",
    "    Z = tf.placeholder(tf.float32, shape= [None, Z_dim])\n",
    "    Y = tf.placeholder(tf.float32, shape= [None, mnist.train.labels.shape[1]])"
   ]
  },
  {
   "cell_type": "raw",
   "metadata": {},
   "source": [
    "Ex05\n",
    "在 input 中加入 label 的值\n",
    "\n",
    "Hint:\n",
    "tf.concat([tensor1, tensor1],axis=)"
   ]
  },
  {
   "cell_type": "code",
   "execution_count": null,
   "metadata": {},
   "outputs": [],
   "source": [
    "def generator(z, y):\n",
    "    with tf.variable_scope(\"generator\"):\n",
    "        inputs =\n",
    "        G_h1 = tf.layers.dense(inputs, 128,\n",
    "                               activation=tf.nn.relu,\n",
    "                               kernel_initializer=tf.glorot_normal_initializer())\n",
    "        G_prob = tf.layers.dense(G_h1, 784, activation = tf.nn.sigmoid, kernel_initializer=tf.glorot_normal_initializer())\n",
    "    \n",
    "        return G_prob\n",
    "\n",
    "def discriminator(x, y, reuse):\n",
    "    with tf.variable_scope(\"discriminator\"):       \n",
    "        inputs =\n",
    "        D_h1 = tf.layers.dense(inputs, 128,\n",
    "                               reuse = reuse,\n",
    "                               activation=tf.nn.relu,\n",
    "                               kernel_initializer=tf.glorot_normal_initializer(), \n",
    "                               name = \"L1\")\n",
    "        D_logit = tf.layers.dense(D_h1, 1,\n",
    "                                  reuse = reuse,\n",
    "                                  kernel_initializer=tf.glorot_normal_initializer(),\n",
    "                                  name = \"L2\")\n",
    "        D_prob = tf.nn.sigmoid(D_logit)\n",
    "        return D_prob, D_logit\n",
    "\n",
    "def loss(D_logit_real, D_logit_fake):\n",
    "    # D_loss = -tf.reduce_mean(tf.log(D_real) + tf.log(1. - D_fake))\n",
    "    # G_loss = -tf.reduce_mean(tf.log(D_fake))\n",
    "    \n",
    "    # Alternative losses:\n",
    "    # -------------------\n",
    "    D_loss_real = tf.reduce_mean(tf.nn.sigmoid_cross_entropy_with_logits(logits=D_logit_real, labels=tf.ones_like(D_logit_real)))\n",
    "    D_loss_fake = tf.reduce_mean(tf.nn.sigmoid_cross_entropy_with_logits(logits=D_logit_fake, labels=tf.zeros_like(D_logit_fake)))\n",
    "    D_loss = D_loss_real + D_loss_fake\n",
    "    G_loss = tf.reduce_mean(tf.nn.sigmoid_cross_entropy_with_logits(logits=D_logit_fake, labels=tf.ones_like(D_logit_fake)))\n",
    "    \n",
    "    return G_loss, D_loss\n",
    "\n",
    "def sample_Z(m, n):\n",
    "    return np.random.uniform(-1., 1., size=[m, n])\n",
    "\n",
    "def plot(samples):\n",
    "    fig = plt.figure(figsize=(4, 4))\n",
    "    gs = gridspec.GridSpec(4, 4)\n",
    "    gs.update(wspace=0.05, hspace=0.05)\n",
    "\n",
    "    for i, sample in enumerate(samples):\n",
    "        ax = plt.subplot(gs[i])\n",
    "        plt.axis('off')\n",
    "        ax.set_xticklabels([])\n",
    "        ax.set_yticklabels([])\n",
    "        ax.set_aspect('equal')\n",
    "        plt.imshow(sample.reshape(28, 28), cmap='Greys_r')\n",
    "    return fig"
   ]
  },
  {
   "cell_type": "code",
   "execution_count": null,
   "metadata": {},
   "outputs": [],
   "source": [
    "G_sample = generator(Z, Y)\n",
    "D_real, D_logit_real = discriminator(X, Y, reuse=None)\n",
    "D_fake, D_logit_fake = discriminator(G_sample, Y, reuse=True)"
   ]
  },
  {
   "cell_type": "code",
   "execution_count": null,
   "metadata": {},
   "outputs": [],
   "source": [
    "t_vars = tf.trainable_variables()\n",
    "g_vars = [var for var in t_vars if var.name.startswith(\"generator\")]\n",
    "d_vars = [var for var in t_vars if var.name.startswith(\"discriminator\")]"
   ]
  },
  {
   "cell_type": "code",
   "execution_count": null,
   "metadata": {},
   "outputs": [],
   "source": [
    "G_loss, D_loss = loss(D_logit_real, D_logit_fake)\n",
    "D_solver = tf.train.AdamOptimizer().minimize(D_loss, var_list=d_vars)\n",
    "G_solver = tf.train.AdamOptimizer().minimize(G_loss, var_list=g_vars)"
   ]
  },
  {
   "cell_type": "code",
   "execution_count": null,
   "metadata": {
    "scrolled": false
   },
   "outputs": [],
   "source": [
    "sess = tf.Session()\n",
    "sess.run(tf.global_variables_initializer())\n",
    "\n",
    "if not os.path.exists('out/'):\n",
    "    os.makedirs('out/')\n",
    "\n",
    "for it in range(50000):\n",
    "    X_mb, Y_mb = mnist.train.next_batch(batch_size) \n",
    "    _, D_loss_curr = sess.run([D_solver, D_loss], feed_dict={X: X_mb,\n",
    "                                                             Z: sample_Z(batch_size, Z_dim),\n",
    "                                                             Y: Y_mb})\n",
    "    _, G_loss_curr = sess.run([G_solver, G_loss], feed_dict={Z: sample_Z(batch_size, Z_dim),\n",
    "                                                             Y: Y_mb})\n",
    "\n",
    "    if it % 1000 == 0:\n",
    "        print('Iter: {}, D loss: {:.4}, G_loss: {:.4}'.format(it,D_loss_curr,G_loss_curr))\n",
    "        \n",
    "        samples = sess.run(G_sample, feed_dict={Z: sample_Z(16, Z_dim),\n",
    "                                               Y: Y_mb[0:16,]})\n",
    "\n",
    "        fig = plot(samples)\n",
    "        plt.savefig('out/ex05_CGAN/{}.png'.format(str(it).zfill(5)), bbox_inches='tight')\n",
    "        plt.close(fig)"
   ]
  }
 ],
 "metadata": {
  "kernelspec": {
   "display_name": "Python 3",
   "language": "python",
   "name": "python3"
  },
  "language_info": {
   "codemirror_mode": {
    "name": "ipython",
    "version": 3
   },
   "file_extension": ".py",
   "mimetype": "text/x-python",
   "name": "python",
   "nbconvert_exporter": "python",
   "pygments_lexer": "ipython3",
   "version": "3.5.3"
  }
 },
 "nbformat": 4,
 "nbformat_minor": 2
}
