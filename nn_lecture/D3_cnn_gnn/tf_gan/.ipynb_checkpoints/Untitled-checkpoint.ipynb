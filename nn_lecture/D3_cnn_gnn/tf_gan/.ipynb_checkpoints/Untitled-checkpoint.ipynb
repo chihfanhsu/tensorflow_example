{
 "cells": [
  {
   "cell_type": "code",
   "execution_count": 5,
   "metadata": {},
   "outputs": [],
   "source": [
    "import tensorflow as tf"
   ]
  },
  {
   "cell_type": "code",
   "execution_count": 6,
   "metadata": {},
   "outputs": [],
   "source": [
    "X2 = tf.placeholder(tf.float32, shape= [None, 2, 2,1])\n"
   ]
  },
  {
   "cell_type": "code",
   "execution_count": 7,
   "metadata": {},
   "outputs": [],
   "source": [
    "def convT(inputs, strides=(2,2),  padding='same'):\n",
    "    return tf.layers.conv2d_transpose(inputs,\n",
    "                                       filters=1,\n",
    "                                       kernel_size=(5,5),\n",
    "                                       strides=strides,\n",
    "                                       padding=padding,\n",
    "                                        kernel_initializer=tf.ones_initializer(),\n",
    "                                        bias_initializer=tf.zeros_initializer(),\n",
    "                                  trainable=False)\n",
    "    "
   ]
  },
  {
   "cell_type": "code",
   "execution_count": 8,
   "metadata": {},
   "outputs": [
    {
     "name": "stdout",
     "output_type": "stream",
     "text": [
      "Tensor(\"conv2d_transpose/BiasAdd:0\", shape=(?, 4, 4, 1), dtype=float32)\n"
     ]
    }
   ],
   "source": [
    "temp1 = convT(X2, strides=(2,2),padding='same')\n",
    "print(temp1)"
   ]
  },
  {
   "cell_type": "code",
   "execution_count": 9,
   "metadata": {},
   "outputs": [
    {
     "name": "stdout",
     "output_type": "stream",
     "text": [
      "Tensor(\"conv2d_transpose_1/BiasAdd:0\", shape=(?, 7, 7, 1), dtype=float32)\n"
     ]
    }
   ],
   "source": [
    "temp2 = convT(X2, strides=(2,2),padding='valid')\n",
    "print(temp2)"
   ]
  },
  {
   "cell_type": "code",
   "execution_count": 10,
   "metadata": {},
   "outputs": [
    {
     "name": "stdout",
     "output_type": "stream",
     "text": [
      "Tensor(\"conv2d_transpose_2/BiasAdd:0\", shape=(?, 2, 2, 1), dtype=float32)\n"
     ]
    }
   ],
   "source": [
    "temp3 = convT(X2, strides=(1,1),padding='same')\n",
    "print(temp3)"
   ]
  },
  {
   "cell_type": "code",
   "execution_count": 11,
   "metadata": {},
   "outputs": [
    {
     "name": "stdout",
     "output_type": "stream",
     "text": [
      "Tensor(\"conv2d_transpose_3/BiasAdd:0\", shape=(?, 7, 7, 1), dtype=float32)\n"
     ]
    }
   ],
   "source": [
    "temp4 = convT(X2, strides=(1,1),padding='valid')\n",
    "print(temp4)"
   ]
  },
  {
   "cell_type": "code",
   "execution_count": null,
   "metadata": {},
   "outputs": [],
   "source": []
  }
 ],
 "metadata": {
  "kernelspec": {
   "display_name": "Python 3",
   "language": "python",
   "name": "python3"
  },
  "language_info": {
   "codemirror_mode": {
    "name": "ipython",
    "version": 3
   },
   "file_extension": ".py",
   "mimetype": "text/x-python",
   "name": "python",
   "nbconvert_exporter": "python",
   "pygments_lexer": "ipython3",
   "version": "3.5.3"
  }
 },
 "nbformat": 4,
 "nbformat_minor": 2
}
