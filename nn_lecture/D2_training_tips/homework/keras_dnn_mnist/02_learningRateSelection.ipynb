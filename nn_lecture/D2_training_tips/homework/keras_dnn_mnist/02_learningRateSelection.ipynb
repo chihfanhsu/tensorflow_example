{
 "cells": [
  {
   "cell_type": "code",
   "execution_count": 1,
   "metadata": {},
   "outputs": [],
   "source": [
    "# Modified from Jimmy Chang's codes"
   ]
  },
  {
   "cell_type": "code",
   "execution_count": 2,
   "metadata": {},
   "outputs": [
    {
     "name": "stderr",
     "output_type": "stream",
     "text": [
      "c:\\users\\silver\\appdata\\local\\programs\\python\\python35\\lib\\site-packages\\h5py\\__init__.py:36: FutureWarning: Conversion of the second argument of issubdtype from `float` to `np.floating` is deprecated. In future, it will be treated as `np.float64 == np.dtype(float).type`.\n",
      "  from ._conv import register_converters as _register_converters\n",
      "Using TensorFlow backend.\n"
     ]
    }
   ],
   "source": [
    "from __future__ import print_function\n",
    "import keras\n",
    "from keras.datasets import mnist\n",
    "from keras.models import Sequential\n",
    "from keras.layers.core import Dense, Activation\n",
    "\n",
    "batch_size = 128\n",
    "num_classes = 10\n",
    "epochs = 12\n",
    "\n",
    "# input image dimensions\n",
    "img_rows, img_cols = 28, 28\n",
    "\n",
    "# the data, shuffled and split between train and test sets\n",
    "(x_train, y_train), (x_test, y_test) = mnist.load_data()"
   ]
  },
  {
   "cell_type": "code",
   "execution_count": 3,
   "metadata": {},
   "outputs": [
    {
     "name": "stdout",
     "output_type": "stream",
     "text": [
      "training inputs (60000, 28, 28)\n",
      "training labels (60000,)\n",
      "testing inputs (10000, 28, 28)\n",
      "testing inputs (10000,)\n"
     ]
    }
   ],
   "source": [
    "print(\"training inputs\",x_train.shape)\n",
    "print(\"training labels\",y_train.shape)\n",
    "print(\"testing inputs\",x_test.shape)\n",
    "print(\"testing inputs\",y_test.shape)"
   ]
  },
  {
   "cell_type": "code",
   "execution_count": 4,
   "metadata": {},
   "outputs": [],
   "source": [
    "x_train = x_train.reshape(x_train.shape[0], img_rows*img_cols)\n",
    "x_test = x_test.reshape(x_test.shape[0], img_rows*img_cols)\n",
    "x_train = x_train.astype('float32')\n",
    "x_test = x_test.astype('float32')\n",
    "x_train /= 255\n",
    "x_test /= 255\n",
    "\n",
    "# convert class vectors to binary class matrices\n",
    "y_train = keras.utils.to_categorical(y_train, num_classes)\n",
    "y_test = keras.utils.to_categorical(y_test, num_classes)"
   ]
  },
  {
   "cell_type": "code",
   "execution_count": 5,
   "metadata": {},
   "outputs": [
    {
     "name": "stdout",
     "output_type": "stream",
     "text": [
      "training inputs (60000, 784)\n",
      "training labels (60000, 10)\n",
      "testing inputs (10000, 784)\n",
      "testing inputs (10000, 10)\n"
     ]
    }
   ],
   "source": [
    "print(\"training inputs\",x_train.shape)\n",
    "print(\"training labels\",y_train.shape)\n",
    "print(\"testing inputs\",x_test.shape)\n",
    "print(\"testing inputs\",y_test.shape)"
   ]
  },
  {
   "cell_type": "code",
   "execution_count": 6,
   "metadata": {},
   "outputs": [
    {
     "name": "stdout",
     "output_type": "stream",
     "text": [
      "Building model using SGD(lr=0.1)\n",
      "Building model using SGD(lr=0.01)\n",
      "Building model using SGD(lr=0.001)\n"
     ]
    }
   ],
   "source": [
    "print('Building model using SGD(lr=0.1)')\n",
    "''' 1. Model using large learning rate '''\n",
    "model_large = Sequential()\n",
    "model_large.add(Dense(512, input_dim=x_train.shape[1]))\n",
    "model_large.add(Activation('sigmoid'))\n",
    "model_large.add(Dense(512))\n",
    "model_large.add(Activation('sigmoid'))\n",
    "model_large.add(Dense(10))\n",
    "model_large.add(Activation('softmax'))\n",
    "\n",
    "print('Building model using SGD(lr=0.01)')\n",
    "''' 2. Model using median learning rate '''\n",
    "model_median = Sequential()\n",
    "model_median.add(Dense(512, input_dim=x_train.shape[1]))\n",
    "model_median.add(Activation('sigmoid'))\n",
    "model_median.add(Dense(512))\n",
    "model_median.add(Activation('sigmoid'))\n",
    "model_median.add(Dense(10))\n",
    "model_median.add(Activation('softmax'))\n",
    "\n",
    "print('Building model using SGD(lr=0.001)')\n",
    "''' 3. Model using small learning rate '''\n",
    "model_small = Sequential()\n",
    "model_small.add(Dense(512, input_dim=x_train.shape[1]))\n",
    "model_small.add(Activation('sigmoid'))\n",
    "model_small.add(Dense(512))\n",
    "model_small.add(Activation('sigmoid'))\n",
    "model_small.add(Dense(10))\n",
    "model_small.add(Activation('softmax'))"
   ]
  },
  {
   "cell_type": "code",
   "execution_count": 8,
   "metadata": {},
   "outputs": [
    {
     "name": "stdout",
     "output_type": "stream",
     "text": [
      "Train on 54000 samples, validate on 6000 samples\n",
      "Epoch 1/12\n",
      "54000/54000 [==============================] - 4s 78us/step - loss: 1.6932 - acc: 0.4576 - val_loss: 0.8013 - val_acc: 0.7997\n",
      "Epoch 2/12\n",
      "54000/54000 [==============================] - 3s 48us/step - loss: 0.6469 - acc: 0.8171 - val_loss: 0.4417 - val_acc: 0.8848\n",
      "Epoch 3/12\n",
      "54000/54000 [==============================] - 3s 48us/step - loss: 0.4593 - acc: 0.8688 - val_loss: 0.3424 - val_acc: 0.9057\n",
      "Epoch 4/12\n",
      "54000/54000 [==============================] - 3s 48us/step - loss: 0.3967 - acc: 0.8859 - val_loss: 0.3123 - val_acc: 0.9097\n",
      "Epoch 5/12\n",
      "54000/54000 [==============================] - 3s 48us/step - loss: 0.3658 - acc: 0.8950 - val_loss: 0.2880 - val_acc: 0.9168\n",
      "Epoch 6/12\n",
      "54000/54000 [==============================] - 3s 47us/step - loss: 0.3456 - acc: 0.8996 - val_loss: 0.2726 - val_acc: 0.9230\n",
      "Epoch 7/12\n",
      "54000/54000 [==============================] - 3s 48us/step - loss: 0.3318 - acc: 0.9041 - val_loss: 0.2671 - val_acc: 0.9242\n",
      "Epoch 8/12\n",
      "54000/54000 [==============================] - 3s 49us/step - loss: 0.3208 - acc: 0.9065 - val_loss: 0.2680 - val_acc: 0.9208\n",
      "Epoch 9/12\n",
      "54000/54000 [==============================] - 3s 48us/step - loss: 0.3118 - acc: 0.9093 - val_loss: 0.2470 - val_acc: 0.9280\n",
      "Epoch 10/12\n",
      "54000/54000 [==============================] - 3s 49us/step - loss: 0.3035 - acc: 0.9111 - val_loss: 0.2553 - val_acc: 0.9238\n",
      "Epoch 11/12\n",
      "54000/54000 [==============================] - 3s 52us/step - loss: 0.2965 - acc: 0.9134 - val_loss: 0.2454 - val_acc: 0.9297\n",
      "Epoch 12/12\n",
      "54000/54000 [==============================] - 3s 48us/step - loss: 0.2902 - acc: 0.9157 - val_loss: 0.2382 - val_acc: 0.9278\n",
      "Train on 54000 samples, validate on 6000 samples\n",
      "Epoch 1/12\n",
      "54000/54000 [==============================] - 3s 52us/step - loss: 2.2717 - acc: 0.1903 - val_loss: 2.2382 - val_acc: 0.1150\n",
      "Epoch 2/12\n",
      "54000/54000 [==============================] - 3s 47us/step - loss: 2.1990 - acc: 0.3501 - val_loss: 2.1590 - val_acc: 0.2163\n",
      "Epoch 3/12\n",
      "54000/54000 [==============================] - 3s 47us/step - loss: 2.1098 - acc: 0.4805 - val_loss: 2.0456 - val_acc: 0.5763\n",
      "Epoch 4/12\n",
      "54000/54000 [==============================] - 3s 48us/step - loss: 1.9831 - acc: 0.5637 - val_loss: 1.8933 - val_acc: 0.5960\n",
      "Epoch 5/12\n",
      "54000/54000 [==============================] - 3s 47us/step - loss: 1.8099 - acc: 0.6282 - val_loss: 1.6890 - val_acc: 0.7462\n",
      "Epoch 6/12\n",
      "54000/54000 [==============================] - 3s 48us/step - loss: 1.6004 - acc: 0.6766 - val_loss: 1.4610 - val_acc: 0.7768\n",
      "Epoch 7/12\n",
      "54000/54000 [==============================] - 3s 47us/step - loss: 1.3864 - acc: 0.7197 - val_loss: 1.2456 - val_acc: 0.7920\n",
      "Epoch 8/12\n",
      "54000/54000 [==============================] - 3s 48us/step - loss: 1.1985 - acc: 0.7504 - val_loss: 1.0700 - val_acc: 0.8025\n",
      "Epoch 9/12\n",
      "54000/54000 [==============================] - 3s 49us/step - loss: 1.0472 - acc: 0.7744 - val_loss: 0.9270 - val_acc: 0.8263\n",
      "Epoch 10/12\n",
      "54000/54000 [==============================] - 3s 48us/step - loss: 0.9298 - acc: 0.7907 - val_loss: 0.8204 - val_acc: 0.8333\n",
      "Epoch 11/12\n",
      "54000/54000 [==============================] - 3s 48us/step - loss: 0.8386 - acc: 0.8043 - val_loss: 0.7363 - val_acc: 0.8432\n",
      "Epoch 12/12\n",
      "54000/54000 [==============================] - 3s 47us/step - loss: 0.7669 - acc: 0.8155 - val_loss: 0.6701 - val_acc: 0.8520\n",
      "Train on 54000 samples, validate on 6000 samples\n",
      "Epoch 1/12\n",
      "54000/54000 [==============================] - 3s 53us/step - loss: 2.3243 - acc: 0.1143 - val_loss: 2.2960 - val_acc: 0.1050\n",
      "Epoch 2/12\n",
      "54000/54000 [==============================] - 3s 49us/step - loss: 2.2917 - acc: 0.1144 - val_loss: 2.2887 - val_acc: 0.1107\n",
      "Epoch 3/12\n",
      "54000/54000 [==============================] - 3s 50us/step - loss: 2.2853 - acc: 0.1214 - val_loss: 2.2817 - val_acc: 0.1250\n",
      "Epoch 4/12\n",
      "54000/54000 [==============================] - 3s 49us/step - loss: 2.2788 - acc: 0.1252 - val_loss: 2.2754 - val_acc: 0.1117\n",
      "Epoch 5/12\n",
      "54000/54000 [==============================] - 3s 47us/step - loss: 2.2724 - acc: 0.1527 - val_loss: 2.2687 - val_acc: 0.1100\n",
      "Epoch 6/12\n",
      "54000/54000 [==============================] - 3s 48us/step - loss: 2.2659 - acc: 0.1688 - val_loss: 2.2618 - val_acc: 0.1505\n",
      "Epoch 7/12\n",
      "54000/54000 [==============================] - 3s 48us/step - loss: 2.2593 - acc: 0.1951 - val_loss: 2.2549 - val_acc: 0.2037\n",
      "Epoch 8/12\n",
      "54000/54000 [==============================] - 3s 49us/step - loss: 2.2527 - acc: 0.2474 - val_loss: 2.2487 - val_acc: 0.1393\n",
      "Epoch 9/12\n",
      "54000/54000 [==============================] - 3s 49us/step - loss: 2.2460 - acc: 0.2271 - val_loss: 2.2410 - val_acc: 0.3860\n",
      "Epoch 10/12\n",
      "54000/54000 [==============================] - 3s 49us/step - loss: 2.2393 - acc: 0.3178 - val_loss: 2.2343 - val_acc: 0.2420\n",
      "Epoch 11/12\n",
      "54000/54000 [==============================] - 3s 48us/step - loss: 2.2324 - acc: 0.3117 - val_loss: 2.2268 - val_acc: 0.2812\n",
      "Epoch 12/12\n",
      "54000/54000 [==============================] - 3s 49us/step - loss: 2.2255 - acc: 0.3427 - val_loss: 2.2196 - val_acc: 0.3520\n"
     ]
    }
   ],
   "source": [
    "''' set the learning rate of SGD optimizer to 0.1 '''\n",
    "from keras.optimizers import SGD, Adam, RMSprop, Adagrad\n",
    "sgd1 = SGD(lr=0.1,momentum=0.0,decay=0.0,nesterov=False)\n",
    "\n",
    "model_large.compile(loss= 'categorical_crossentropy',\n",
    "                    optimizer=sgd1,\n",
    "                    metrics=['accuracy'])\n",
    "\n",
    "history_large = model_large.fit(x_train, y_train,\n",
    "                                batch_size=batch_size,\n",
    "                                epochs=epochs,\n",
    "                                verbose=1,\n",
    "                                shuffle=True,\n",
    "                                validation_split=0.1)\n",
    "\n",
    "''' set the learning rate of SGD optimizer to 0.01 '''\n",
    "sgd2 = SGD(lr=0.01,momentum=0.0,decay=0.0,nesterov=False)\n",
    "\n",
    "model_median.compile(loss= 'categorical_crossentropy',\n",
    "                     optimizer=sgd2,\n",
    "                     metrics=['accuracy'])\n",
    "\n",
    "history_median = model_median.fit(x_train, y_train,\n",
    "                                  batch_size=batch_size,\n",
    "                                  epochs=epochs,\n",
    "                                  verbose=1,\n",
    "                                  shuffle=True,\n",
    "                                  validation_split=0.1)\n",
    "\n",
    "''' set the learning rate of SGD optimizer to 0.001 '''\n",
    "sgd3 = SGD(lr=0.001,momentum=0.0,decay=0.0,nesterov=False)\n",
    "\n",
    "model_small.compile(loss= 'categorical_crossentropy',\n",
    "                    optimizer=sgd3,\n",
    "                    metrics=['accuracy'])\n",
    "\n",
    "history_small = model_small.fit(x_train, y_train,\n",
    "                                batch_size=batch_size,\n",
    "                                epochs=epochs,\n",
    "                                verbose=1,\n",
    "                                shuffle=True,\n",
    "                                validation_split=0.1)\n"
   ]
  },
  {
   "cell_type": "code",
   "execution_count": 10,
   "metadata": {},
   "outputs": [
    {
     "data": {
      "image/png": "[encoded data removed]",
      "text/plain": [
       "<matplotlib.figure.Figure at 0x2478db33be0>"
      ]
     },
     "metadata": {},
     "output_type": "display_data"
    },
    {
     "name": "stdout",
     "output_type": "stream",
     "text": [
      "Result saved into 02_learningRateSelection.png\n"
     ]
    }
   ],
   "source": [
    "'''Access the loss and accuracy in every epoch'''\n",
    "loss_large = history_large.history.get('loss')\n",
    "acc_large = history_large.history.get('acc')\n",
    "loss_median = history_median.history.get('loss')\n",
    "acc_median = history_median.history.get('acc')\n",
    "loss_small = history_small.history.get('loss')\n",
    "acc_small = history_small.history.get('acc')\n",
    "\n",
    "''' Visualize the loss and accuracy of both models'''\n",
    "import matplotlib.pyplot as plt\n",
    "plt.figure(0,figsize=(8,6))\n",
    "plt.subplot(121)\n",
    "plt.plot(range(len(loss_large)), loss_large,label='lr=0.1')\n",
    "plt.plot(range(len(loss_median)), loss_median,label='lr=0.01')\n",
    "plt.plot(range(len(loss_small)), loss_small,label='lr=0.001')\n",
    "plt.title('Loss')\n",
    "plt.xlabel(\"epoch\")\n",
    "plt.subplot(122)\n",
    "plt.plot(range(len(acc_large)), acc_large,label='lr=0.1')\n",
    "plt.plot(range(len(acc_median)), acc_median,label='lr=0.01')\n",
    "plt.plot(range(len(acc_small)), acc_small,label='lr=0.001')\n",
    "plt.title('Accuracy')\n",
    "plt.xlabel(\"epoch\")\n",
    "plt.legend(loc='lower right')\n",
    "plt.tight_layout()\n",
    "plt.savefig('02_learningRateSelection.png',dpi=300,format='png')\n",
    "plt.show()\n",
    "plt.close()\n",
    "print('Result saved into 02_learningRateSelection.png')"
   ]
  }
 ],
 "metadata": {
  "kernelspec": {
   "display_name": "Python 3",
   "language": "python",
   "name": "python3"
  },
  "language_info": {
   "codemirror_mode": {
    "name": "ipython",
    "version": 3
   },
   "file_extension": ".py",
   "mimetype": "text/x-python",
   "name": "python",
   "nbconvert_exporter": "python",
   "pygments_lexer": "ipython3",
   "version": "3.5.3"
  }
 },
 "nbformat": 4,
 "nbformat_minor": 2
}
