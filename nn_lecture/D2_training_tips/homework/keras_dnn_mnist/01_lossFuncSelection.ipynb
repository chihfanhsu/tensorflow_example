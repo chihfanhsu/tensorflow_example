{
 "cells": [
  {
   "cell_type": "code",
   "execution_count": 1,
   "metadata": {},
   "outputs": [],
   "source": [
    "# Modified from Jimmy Chang's codes"
   ]
  },
  {
   "cell_type": "code",
   "execution_count": 2,
   "metadata": {},
   "outputs": [
    {
     "name": "stderr",
     "output_type": "stream",
     "text": [
      "c:\\users\\silver\\appdata\\local\\programs\\python\\python35\\lib\\site-packages\\h5py\\__init__.py:36: FutureWarning: Conversion of the second argument of issubdtype from `float` to `np.floating` is deprecated. In future, it will be treated as `np.float64 == np.dtype(float).type`.\n",
      "  from ._conv import register_converters as _register_converters\n",
      "Using TensorFlow backend.\n"
     ]
    }
   ],
   "source": [
    "from __future__ import print_function\n",
    "import keras\n",
    "from keras.datasets import mnist\n",
    "from keras.models import Sequential\n",
    "from keras.layers.core import Dense, Activation\n",
    "\n",
    "batch_size = 128\n",
    "num_classes = 10\n",
    "epochs = 12\n",
    "\n",
    "# input image dimensions\n",
    "img_rows, img_cols = 28, 28\n",
    "\n",
    "# the data, shuffled and split between train and test sets\n",
    "(x_train, y_train), (x_test, y_test) = mnist.load_data()"
   ]
  },
  {
   "cell_type": "code",
   "execution_count": 3,
   "metadata": {},
   "outputs": [
    {
     "name": "stdout",
     "output_type": "stream",
     "text": [
      "training inputs (60000, 28, 28)\n",
      "training labels (60000,)\n",
      "testing inputs (10000, 28, 28)\n",
      "testing inputs (10000,)\n"
     ]
    }
   ],
   "source": [
    "print(\"training inputs\",x_train.shape)\n",
    "print(\"training labels\",y_train.shape)\n",
    "print(\"testing inputs\",x_test.shape)\n",
    "print(\"testing inputs\",y_test.shape)"
   ]
  },
  {
   "cell_type": "code",
   "execution_count": 4,
   "metadata": {},
   "outputs": [],
   "source": [
    "x_train = x_train.reshape(x_train.shape[0], img_rows*img_cols)\n",
    "x_test = x_test.reshape(x_test.shape[0], img_rows*img_cols)\n",
    "x_train = x_train.astype('float32')\n",
    "x_test = x_test.astype('float32')\n",
    "x_train /= 255\n",
    "x_test /= 255\n",
    "\n",
    "# convert class vectors to binary class matrices\n",
    "y_train = keras.utils.to_categorical(y_train, num_classes)\n",
    "y_test = keras.utils.to_categorical(y_test, num_classes)"
   ]
  },
  {
   "cell_type": "code",
   "execution_count": 5,
   "metadata": {},
   "outputs": [
    {
     "name": "stdout",
     "output_type": "stream",
     "text": [
      "training inputs (60000, 784)\n",
      "training labels (60000, 10)\n",
      "testing inputs (10000, 784)\n",
      "testing inputs (10000, 10)\n"
     ]
    }
   ],
   "source": [
    "print(\"training inputs\",x_train.shape)\n",
    "print(\"training labels\",y_train.shape)\n",
    "print(\"testing inputs\",x_test.shape)\n",
    "print(\"testing inputs\",y_test.shape)"
   ]
  },
  {
   "cell_type": "code",
   "execution_count": 6,
   "metadata": {},
   "outputs": [],
   "source": [
    "''' For categorical_crossentropy '''\n",
    "model_ce = Sequential()\n",
    "model_ce.add(Dense(512, input_dim=x_train.shape[1]))\n",
    "model_ce.add(Activation('sigmoid'))\n",
    "model_ce.add(Dense(512))\n",
    "model_ce.add(Activation('sigmoid'))\n",
    "model_ce.add(Dense(10))\n",
    "model_ce.add(Activation('softmax'))\n",
    "\n",
    "# print 'Building a model whose loss function is mean_squared_error'\n",
    "''' For mean_squared_error '''\n",
    "model_mse = Sequential()\n",
    "model_mse.add(Dense(512, input_dim=x_train.shape[1]))\n",
    "model_mse.add(Activation('sigmoid'))\n",
    "model_mse.add(Dense(512))\n",
    "model_mse.add(Activation('sigmoid'))\n",
    "model_mse.add(Dense(10))\n",
    "model_mse.add(Activation('softmax'))"
   ]
  },
  {
   "cell_type": "code",
   "execution_count": 7,
   "metadata": {},
   "outputs": [
    {
     "name": "stdout",
     "output_type": "stream",
     "text": [
      "Train on 54000 samples, validate on 6000 samples\n",
      "Epoch 1/30\n",
      "54000/54000 [==============================] - 19s 358us/step - loss: 1.8226 - acc: 0.4602 - val_loss: 1.0545 - val_acc: 0.7405\n",
      "Epoch 2/30\n",
      "54000/54000 [==============================] - 18s 333us/step - loss: 0.7729 - acc: 0.8041 - val_loss: 0.5042 - val_acc: 0.8803\n",
      "Epoch 3/30\n",
      "54000/54000 [==============================] - 18s 338us/step - loss: 0.5100 - acc: 0.8593 - val_loss: 0.3830 - val_acc: 0.9022\n",
      "Epoch 4/30\n",
      "54000/54000 [==============================] - 19s 344us/step - loss: 0.4267 - acc: 0.8791 - val_loss: 0.3330 - val_acc: 0.9067\n",
      "Epoch 5/30\n",
      "54000/54000 [==============================] - 18s 333us/step - loss: 0.3876 - acc: 0.8892 - val_loss: 0.3077 - val_acc: 0.9132\n",
      "Epoch 6/30\n",
      "54000/54000 [==============================] - 17s 322us/step - loss: 0.3633 - acc: 0.8959 - val_loss: 0.2903 - val_acc: 0.9190\n",
      "Epoch 7/30\n",
      "54000/54000 [==============================] - 17s 322us/step - loss: 0.3463 - acc: 0.9002 - val_loss: 0.2785 - val_acc: 0.9190\n",
      "Epoch 8/30\n",
      "54000/54000 [==============================] - 17s 322us/step - loss: 0.3336 - acc: 0.9031 - val_loss: 0.2730 - val_acc: 0.9212\n",
      "Epoch 9/30\n",
      "54000/54000 [==============================] - 17s 320us/step - loss: 0.3237 - acc: 0.9065 - val_loss: 0.2613 - val_acc: 0.9222\n",
      "Epoch 10/30\n",
      "54000/54000 [==============================] - 17s 322us/step - loss: 0.3156 - acc: 0.9089 - val_loss: 0.2539 - val_acc: 0.9282\n",
      "Epoch 11/30\n",
      "54000/54000 [==============================] - 17s 320us/step - loss: 0.3080 - acc: 0.9107 - val_loss: 0.2514 - val_acc: 0.9257\n",
      "Epoch 12/30\n",
      "54000/54000 [==============================] - 17s 322us/step - loss: 0.3023 - acc: 0.9119 - val_loss: 0.2465 - val_acc: 0.9300\n",
      "Epoch 13/30\n",
      "54000/54000 [==============================] - 17s 323us/step - loss: 0.2965 - acc: 0.9134 - val_loss: 0.2413 - val_acc: 0.9307\n",
      "Epoch 14/30\n",
      "54000/54000 [==============================] - 17s 320us/step - loss: 0.2919 - acc: 0.9156 - val_loss: 0.2420 - val_acc: 0.9298\n",
      "Epoch 15/30\n",
      "54000/54000 [==============================] - 17s 322us/step - loss: 0.2869 - acc: 0.9164 - val_loss: 0.2346 - val_acc: 0.9332\n",
      "Epoch 16/30\n",
      "54000/54000 [==============================] - 17s 324us/step - loss: 0.2825 - acc: 0.9178 - val_loss: 0.2276 - val_acc: 0.9338\n",
      "Epoch 17/30\n",
      "54000/54000 [==============================] - 17s 322us/step - loss: 0.2781 - acc: 0.9197 - val_loss: 0.2295 - val_acc: 0.9335\n",
      "Epoch 18/30\n",
      "54000/54000 [==============================] - 17s 321us/step - loss: 0.2738 - acc: 0.9199 - val_loss: 0.2226 - val_acc: 0.9342\n",
      "Epoch 19/30\n",
      "54000/54000 [==============================] - 17s 323us/step - loss: 0.2702 - acc: 0.9218 - val_loss: 0.2203 - val_acc: 0.9358\n",
      "Epoch 20/30\n",
      "54000/54000 [==============================] - 17s 320us/step - loss: 0.2663 - acc: 0.9231 - val_loss: 0.2176 - val_acc: 0.9382\n",
      "Epoch 21/30\n",
      "54000/54000 [==============================] - 17s 320us/step - loss: 0.2618 - acc: 0.9238 - val_loss: 0.2135 - val_acc: 0.9375\n",
      "Epoch 22/30\n",
      "54000/54000 [==============================] - 17s 323us/step - loss: 0.2578 - acc: 0.9258 - val_loss: 0.2136 - val_acc: 0.9372\n",
      "Epoch 23/30\n",
      "54000/54000 [==============================] - 17s 323us/step - loss: 0.2539 - acc: 0.9259 - val_loss: 0.2102 - val_acc: 0.9398\n",
      "Epoch 24/30\n",
      "54000/54000 [==============================] - 17s 322us/step - loss: 0.2497 - acc: 0.9276 - val_loss: 0.2075 - val_acc: 0.9402\n",
      "Epoch 25/30\n",
      "54000/54000 [==============================] - 17s 320us/step - loss: 0.2457 - acc: 0.9288 - val_loss: 0.2034 - val_acc: 0.9415\n",
      "Epoch 26/30\n",
      "54000/54000 [==============================] - 17s 323us/step - loss: 0.2417 - acc: 0.9300 - val_loss: 0.1980 - val_acc: 0.9432\n",
      "Epoch 27/30\n",
      "54000/54000 [==============================] - 17s 320us/step - loss: 0.2370 - acc: 0.9310 - val_loss: 0.1985 - val_acc: 0.9422\n",
      "Epoch 28/30\n",
      "54000/54000 [==============================] - 17s 324us/step - loss: 0.2335 - acc: 0.9326 - val_loss: 0.1946 - val_acc: 0.9460\n",
      "Epoch 29/30\n",
      "54000/54000 [==============================] - 17s 319us/step - loss: 0.2285 - acc: 0.9340 - val_loss: 0.1882 - val_acc: 0.9462\n",
      "Epoch 30/30\n",
      "54000/54000 [==============================] - 17s 321us/step - loss: 0.2246 - acc: 0.9350 - val_loss: 0.1843 - val_acc: 0.9485\n",
      "Train on 54000 samples, validate on 6000 samples\n",
      "Epoch 1/30\n",
      "54000/54000 [==============================] - 16s 291us/step - loss: 0.0903 - acc: 0.1237 - val_loss: 0.0899 - val_acc: 0.1053\n",
      "Epoch 2/30\n",
      "54000/54000 [==============================] - 16s 287us/step - loss: 0.0897 - acc: 0.1308 - val_loss: 0.0896 - val_acc: 0.1082\n",
      "Epoch 3/30\n",
      "54000/54000 [==============================] - 15s 287us/step - loss: 0.0895 - acc: 0.1345 - val_loss: 0.0894 - val_acc: 0.1407\n",
      "Epoch 4/30\n",
      "54000/54000 [==============================] - 15s 284us/step - loss: 0.0893 - acc: 0.1624 - val_loss: 0.0892 - val_acc: 0.1447\n",
      "Epoch 5/30\n",
      "54000/54000 [==============================] - 15s 285us/step - loss: 0.0890 - acc: 0.1904 - val_loss: 0.0889 - val_acc: 0.1357\n",
      "Epoch 6/30\n",
      "54000/54000 [==============================] - 15s 285us/step - loss: 0.0888 - acc: 0.2034 - val_loss: 0.0886 - val_acc: 0.2590\n",
      "Epoch 7/30\n",
      "54000/54000 [==============================] - 15s 285us/step - loss: 0.0885 - acc: 0.2355 - val_loss: 0.0883 - val_acc: 0.1990\n",
      "Epoch 8/30\n",
      "54000/54000 [==============================] - 15s 284us/step - loss: 0.0882 - acc: 0.2447 - val_loss: 0.0880 - val_acc: 0.2690\n",
      "Epoch 9/30\n",
      "54000/54000 [==============================] - 15s 287us/step - loss: 0.0879 - acc: 0.2542 - val_loss: 0.0877 - val_acc: 0.2432\n",
      "Epoch 10/30\n",
      "54000/54000 [==============================] - 15s 286us/step - loss: 0.0875 - acc: 0.2630 - val_loss: 0.0873 - val_acc: 0.2378\n",
      "Epoch 11/30\n",
      "54000/54000 [==============================] - 15s 282us/step - loss: 0.0872 - acc: 0.2648 - val_loss: 0.0869 - val_acc: 0.2332\n",
      "Epoch 12/30\n",
      "54000/54000 [==============================] - 15s 278us/step - loss: 0.0867 - acc: 0.2651 - val_loss: 0.0864 - val_acc: 0.2735\n",
      "Epoch 13/30\n",
      "54000/54000 [==============================] - 15s 278us/step - loss: 0.0862 - acc: 0.2704 - val_loss: 0.0858 - val_acc: 0.2730\n",
      "Epoch 14/30\n",
      "54000/54000 [==============================] - 15s 282us/step - loss: 0.0856 - acc: 0.2672 - val_loss: 0.0852 - val_acc: 0.2837\n",
      "Epoch 15/30\n",
      "54000/54000 [==============================] - 15s 281us/step - loss: 0.0849 - acc: 0.2688 - val_loss: 0.0845 - val_acc: 0.2815\n",
      "Epoch 16/30\n",
      "54000/54000 [==============================] - 15s 283us/step - loss: 0.0841 - acc: 0.2735 - val_loss: 0.0836 - val_acc: 0.2977\n",
      "Epoch 17/30\n",
      "54000/54000 [==============================] - 15s 279us/step - loss: 0.0831 - acc: 0.2792 - val_loss: 0.0825 - val_acc: 0.2800\n",
      "Epoch 18/30\n",
      "54000/54000 [==============================] - 15s 278us/step - loss: 0.0820 - acc: 0.2864 - val_loss: 0.0813 - val_acc: 0.3170\n",
      "Epoch 19/30\n",
      "54000/54000 [==============================] - 15s 283us/step - loss: 0.0807 - acc: 0.3051 - val_loss: 0.0799 - val_acc: 0.3065\n",
      "Epoch 20/30\n",
      "54000/54000 [==============================] - 15s 281us/step - loss: 0.0793 - acc: 0.3225 - val_loss: 0.0783 - val_acc: 0.3340\n",
      "Epoch 21/30\n",
      "54000/54000 [==============================] - 15s 281us/step - loss: 0.0778 - acc: 0.3530 - val_loss: 0.0768 - val_acc: 0.3635\n",
      "Epoch 22/30\n",
      "54000/54000 [==============================] - 15s 281us/step - loss: 0.0762 - acc: 0.3856 - val_loss: 0.0751 - val_acc: 0.4212\n",
      "Epoch 23/30\n",
      "54000/54000 [==============================] - 15s 279us/step - loss: 0.0746 - acc: 0.4197 - val_loss: 0.0735 - val_acc: 0.4612\n",
      "Epoch 24/30\n",
      "54000/54000 [==============================] - 15s 281us/step - loss: 0.0730 - acc: 0.4515 - val_loss: 0.0718 - val_acc: 0.5010\n",
      "Epoch 25/30\n",
      "54000/54000 [==============================] - 15s 278us/step - loss: 0.0715 - acc: 0.4799 - val_loss: 0.0702 - val_acc: 0.5218\n",
      "Epoch 26/30\n",
      "54000/54000 [==============================] - 15s 280us/step - loss: 0.0700 - acc: 0.5043 - val_loss: 0.0685 - val_acc: 0.5328\n",
      "Epoch 27/30\n",
      "54000/54000 [==============================] - 15s 281us/step - loss: 0.0684 - acc: 0.5254 - val_loss: 0.0669 - val_acc: 0.5683\n",
      "Epoch 28/30\n",
      "54000/54000 [==============================] - 15s 281us/step - loss: 0.0668 - acc: 0.5499 - val_loss: 0.0651 - val_acc: 0.5698\n"
     ]
    },
    {
     "name": "stdout",
     "output_type": "stream",
     "text": [
      "Epoch 29/30\n",
      "54000/54000 [==============================] - 15s 279us/step - loss: 0.0651 - acc: 0.5681 - val_loss: 0.0633 - val_acc: 0.6045\n",
      "Epoch 30/30\n",
      "54000/54000 [==============================] - 15s 279us/step - loss: 0.0634 - acc: 0.5881 - val_loss: 0.0614 - val_acc: 0.6322\n"
     ]
    }
   ],
   "source": [
    "''' Set up the optimizer '''\n",
    "from keras.optimizers import SGD, Adam, RMSprop, Adagrad\n",
    "sgd = SGD(lr=0.01,momentum=0.0,decay=0.0,nesterov=False)\n",
    "\n",
    "''' Compile model with specified loss and optimizer '''\n",
    "model_ce.compile(loss='categorical_crossentropy',\n",
    "                 optimizer=sgd,\n",
    "                 metrics=['accuracy'])\n",
    "\n",
    "model_mse.compile(loss= 'mean_squared_error',\n",
    "                  optimizer=sgd,\n",
    "                  metrics=['accuracy'])\n",
    "\n",
    "''' set the size of mini-batch and number of epochs'''\n",
    "batch_size = 16\n",
    "epochs = 30\n",
    "\n",
    "'''Fit models and use validation_split=0.1 '''\n",
    "history_ce = model_ce.fit(x_train, y_train,\n",
    "                          batch_size=batch_size,\n",
    "                          epochs=epochs,\n",
    "                          verbose=1,\n",
    "                          shuffle=True,\n",
    "                          validation_split=0.1)\n",
    "\n",
    "history_mse = model_mse.fit(x_train, y_train,\n",
    "                            batch_size=batch_size,\n",
    "                            epochs=epochs,\n",
    "                            verbose=1,\n",
    "                            shuffle=True,\n",
    "                            validation_split=0.1)"
   ]
  },
  {
   "cell_type": "code",
   "execution_count": 8,
   "metadata": {},
   "outputs": [
    {
     "data": {
      "image/png": "[encoded data removed]",
      "text/plain": [
       "<matplotlib.figure.Figure at 0x1b0a862ee10>"
      ]
     },
     "metadata": {},
     "output_type": "display_data"
    },
    {
     "name": "stdout",
     "output_type": "stream",
     "text": [
      "Result saved into 01_lossFuncSelection.png\n"
     ]
    }
   ],
   "source": [
    "'''Access the loss and accuracy in every epoch'''\n",
    "loss_ce\t= history_ce.history.get('loss')\n",
    "acc_ce \t= history_ce.history.get('acc')\n",
    "loss_mse= history_mse.history.get('loss')\n",
    "acc_mse = history_mse.history.get('acc')\n",
    "\n",
    "''' Visualize the loss and accuracy of both models'''\n",
    "import matplotlib.pyplot as plt\n",
    "plt.figure(0,figsize=(8,6))\n",
    "plt.subplot(121)\n",
    "plt.plot(range(len(loss_ce)), loss_ce,label='CE')\n",
    "plt.plot(range(len(loss_mse)), loss_mse,label='MSE')\n",
    "plt.title('Loss')\n",
    "plt.xlabel(\"epoch\")\n",
    "plt.subplot(122)\n",
    "plt.plot(range(len(acc_ce)), acc_ce,label='CE')\n",
    "plt.plot(range(len(acc_mse)), acc_mse,label='MSE')\n",
    "plt.title('Accuracy')\n",
    "plt.xlabel(\"epoch\")\n",
    "plt.legend(loc='lower right')\n",
    "plt.tight_layout()\n",
    "plt.savefig('01_lossFuncSelection.png',dpi=300,format='png')\n",
    "plt.show()\n",
    "plt.close()\n",
    "print('Result saved into 01_lossFuncSelection.png')"
   ]
  }
 ],
 "metadata": {
  "kernelspec": {
   "display_name": "Python 3",
   "language": "python",
   "name": "python3"
  },
  "language_info": {
   "codemirror_mode": {
    "name": "ipython",
    "version": 3
   },
   "file_extension": ".py",
   "mimetype": "text/x-python",
   "name": "python",
   "nbconvert_exporter": "python",
   "pygments_lexer": "ipython3",
   "version": "3.5.3"
  }
 },
 "nbformat": 4,
 "nbformat_minor": 2
}
