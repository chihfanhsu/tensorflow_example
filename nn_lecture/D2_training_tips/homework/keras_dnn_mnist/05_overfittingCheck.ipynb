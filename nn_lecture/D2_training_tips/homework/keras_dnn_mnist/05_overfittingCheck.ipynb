{
 "cells": [
  {
   "cell_type": "code",
   "execution_count": 1,
   "metadata": {},
   "outputs": [],
   "source": [
    "# Modified from Jimmy Chang's codes"
   ]
  },
  {
   "cell_type": "code",
   "execution_count": 2,
   "metadata": {},
   "outputs": [
    {
     "name": "stderr",
     "output_type": "stream",
     "text": [
      "c:\\users\\silver\\appdata\\local\\programs\\python\\python35\\lib\\site-packages\\h5py\\__init__.py:36: FutureWarning: Conversion of the second argument of issubdtype from `float` to `np.floating` is deprecated. In future, it will be treated as `np.float64 == np.dtype(float).type`.\n",
      "  from ._conv import register_converters as _register_converters\n",
      "Using TensorFlow backend.\n"
     ]
    }
   ],
   "source": [
    "from __future__ import print_function\n",
    "import keras\n",
    "from keras.datasets import mnist\n",
    "from keras.models import Sequential\n",
    "from keras.layers.core import Dense, Activation\n",
    "\n",
    "batch_size = 128\n",
    "num_classes = 10\n",
    "epochs = 12\n",
    "\n",
    "# input image dimensions\n",
    "img_rows, img_cols = 28, 28\n",
    "\n",
    "# the data, shuffled and split between train and test sets\n",
    "(x_train, y_train), (x_test, y_test) = mnist.load_data()"
   ]
  },
  {
   "cell_type": "code",
   "execution_count": 3,
   "metadata": {},
   "outputs": [
    {
     "name": "stdout",
     "output_type": "stream",
     "text": [
      "training inputs (60000, 28, 28)\n",
      "training labels (60000,)\n",
      "testing inputs (10000, 28, 28)\n",
      "testing inputs (10000,)\n"
     ]
    }
   ],
   "source": [
    "print(\"training inputs\",x_train.shape)\n",
    "print(\"training labels\",y_train.shape)\n",
    "print(\"testing inputs\",x_test.shape)\n",
    "print(\"testing inputs\",y_test.shape)"
   ]
  },
  {
   "cell_type": "code",
   "execution_count": 4,
   "metadata": {},
   "outputs": [],
   "source": [
    "x_train = x_train.reshape(x_train.shape[0], img_rows*img_cols)\n",
    "x_test = x_test.reshape(x_test.shape[0], img_rows*img_cols)\n",
    "x_train = x_train.astype('float32')\n",
    "x_test = x_test.astype('float32')\n",
    "x_train /= 255\n",
    "x_test /= 255\n",
    "\n",
    "# convert class vectors to binary class matrices\n",
    "y_train = keras.utils.to_categorical(y_train, num_classes)\n",
    "y_test = keras.utils.to_categorical(y_test, num_classes)"
   ]
  },
  {
   "cell_type": "code",
   "execution_count": 5,
   "metadata": {},
   "outputs": [
    {
     "name": "stdout",
     "output_type": "stream",
     "text": [
      "training inputs (60000, 784)\n",
      "training labels (60000, 10)\n",
      "testing inputs (10000, 784)\n",
      "testing inputs (10000, 10)\n"
     ]
    }
   ],
   "source": [
    "print(\"training inputs\",x_train.shape)\n",
    "print(\"training labels\",y_train.shape)\n",
    "print(\"testing inputs\",x_test.shape)\n",
    "print(\"testing inputs\",y_test.shape)"
   ]
  },
  {
   "cell_type": "code",
   "execution_count": 6,
   "metadata": {},
   "outputs": [],
   "source": [
    "model_adam = Sequential()\n",
    "model_adam.add(Dense(512, input_dim=x_train.shape[1]))\n",
    "model_adam.add(Activation('relu'))\n",
    "model_adam.add(Dense(512))\n",
    "model_adam.add(Activation('relu'))\n",
    "model_adam.add(Dense(10))\n",
    "model_adam.add(Activation('softmax'))"
   ]
  },
  {
   "cell_type": "code",
   "execution_count": 7,
   "metadata": {},
   "outputs": [
    {
     "name": "stdout",
     "output_type": "stream",
     "text": [
      "Train on 54000 samples, validate on 6000 samples\n",
      "Epoch 1/30\n",
      "54000/54000 [==============================] - 25s 460us/step - loss: 0.1945 - acc: 0.9401 - val_loss: 0.1079 - val_acc: 0.9695\n",
      "Epoch 2/30\n",
      "54000/54000 [==============================] - 23s 417us/step - loss: 0.0890 - acc: 0.9729 - val_loss: 0.0840 - val_acc: 0.9747\n",
      "Epoch 3/30\n",
      "54000/54000 [==============================] - 23s 419us/step - loss: 0.0658 - acc: 0.9800 - val_loss: 0.1025 - val_acc: 0.9738\n",
      "Epoch 4/30\n",
      "54000/54000 [==============================] - 23s 427us/step - loss: 0.0517 - acc: 0.9839 - val_loss: 0.1169 - val_acc: 0.9750\n",
      "Epoch 5/30\n",
      "54000/54000 [==============================] - 22s 410us/step - loss: 0.0424 - acc: 0.9866 - val_loss: 0.0927 - val_acc: 0.9753\n",
      "Epoch 6/30\n",
      "54000/54000 [==============================] - 23s 427us/step - loss: 0.0377 - acc: 0.9885 - val_loss: 0.1123 - val_acc: 0.9753\n",
      "Epoch 7/30\n",
      "54000/54000 [==============================] - 23s 418us/step - loss: 0.0323 - acc: 0.9906 - val_loss: 0.1174 - val_acc: 0.9713\n",
      "Epoch 8/30\n",
      "54000/54000 [==============================] - 22s 415us/step - loss: 0.0297 - acc: 0.9914 - val_loss: 0.0999 - val_acc: 0.9800\n",
      "Epoch 9/30\n",
      "54000/54000 [==============================] - 23s 432us/step - loss: 0.0277 - acc: 0.9926 - val_loss: 0.0943 - val_acc: 0.9818\n",
      "Epoch 10/30\n",
      "54000/54000 [==============================] - 22s 411us/step - loss: 0.0262 - acc: 0.9932 - val_loss: 0.1039 - val_acc: 0.9807\n",
      "Epoch 11/30\n",
      "54000/54000 [==============================] - 23s 428us/step - loss: 0.0227 - acc: 0.9945 - val_loss: 0.1047 - val_acc: 0.9820\n",
      "Epoch 12/30\n",
      "54000/54000 [==============================] - 24s 443us/step - loss: 0.0264 - acc: 0.9929 - val_loss: 0.1127 - val_acc: 0.9822\n",
      "Epoch 13/30\n",
      "54000/54000 [==============================] - 24s 436us/step - loss: 0.0227 - acc: 0.9942 - val_loss: 0.1136 - val_acc: 0.9830\n",
      "Epoch 14/30\n",
      "54000/54000 [==============================] - 23s 434us/step - loss: 0.0214 - acc: 0.9949 - val_loss: 0.1247 - val_acc: 0.9820\n",
      "Epoch 15/30\n",
      "54000/54000 [==============================] - 23s 432us/step - loss: 0.0244 - acc: 0.9945 - val_loss: 0.1697 - val_acc: 0.9775\n",
      "Epoch 16/30\n",
      "54000/54000 [==============================] - 24s 436us/step - loss: 0.0225 - acc: 0.9948 - val_loss: 0.1336 - val_acc: 0.9808\n",
      "Epoch 17/30\n",
      "54000/54000 [==============================] - 23s 433us/step - loss: 0.0193 - acc: 0.9954 - val_loss: 0.1416 - val_acc: 0.9805\n",
      "Epoch 18/30\n",
      "54000/54000 [==============================] - 24s 436us/step - loss: 0.0222 - acc: 0.9950 - val_loss: 0.1547 - val_acc: 0.9783\n",
      "Epoch 19/30\n",
      "54000/54000 [==============================] - 23s 434us/step - loss: 0.0188 - acc: 0.9960 - val_loss: 0.1343 - val_acc: 0.9833\n",
      "Epoch 20/30\n",
      "54000/54000 [==============================] - 24s 436us/step - loss: 0.0226 - acc: 0.9954 - val_loss: 0.1362 - val_acc: 0.9825\n",
      "Epoch 21/30\n",
      "54000/54000 [==============================] - 24s 443us/step - loss: 0.0189 - acc: 0.9962 - val_loss: 0.1609 - val_acc: 0.9808\n",
      "Epoch 22/30\n",
      "54000/54000 [==============================] - 24s 435us/step - loss: 0.0216 - acc: 0.9961 - val_loss: 0.1618 - val_acc: 0.9825\n",
      "Epoch 23/30\n",
      "54000/54000 [==============================] - 24s 436us/step - loss: 0.0228 - acc: 0.9959 - val_loss: 0.1358 - val_acc: 0.9825\n",
      "Epoch 24/30\n",
      "54000/54000 [==============================] - 23s 434us/step - loss: 0.0217 - acc: 0.9957 - val_loss: 0.1389 - val_acc: 0.9825\n",
      "Epoch 25/30\n",
      "54000/54000 [==============================] - 23s 429us/step - loss: 0.0147 - acc: 0.9973 - val_loss: 0.1589 - val_acc: 0.9822\n",
      "Epoch 26/30\n",
      "54000/54000 [==============================] - 23s 425us/step - loss: 0.0216 - acc: 0.9963 - val_loss: 0.1734 - val_acc: 0.9837\n",
      "Epoch 27/30\n",
      "54000/54000 [==============================] - 23s 427us/step - loss: 0.0178 - acc: 0.9966 - val_loss: 0.1521 - val_acc: 0.9832\n",
      "Epoch 28/30\n",
      "54000/54000 [==============================] - 23s 432us/step - loss: 0.0159 - acc: 0.9971 - val_loss: 0.1677 - val_acc: 0.9812\n",
      "Epoch 29/30\n",
      "54000/54000 [==============================] - 23s 432us/step - loss: 0.0215 - acc: 0.9960 - val_loss: 0.1759 - val_acc: 0.9825\n",
      "Epoch 30/30\n",
      "54000/54000 [==============================] - 23s 431us/step - loss: 0.0202 - acc: 0.9968 - val_loss: 0.1722 - val_acc: 0.9835\n"
     ]
    }
   ],
   "source": [
    "''' Set up the optimizer '''\n",
    "from keras.optimizers import SGD, Adam, RMSprop, Adagrad\n",
    "model_adam.compile(loss= 'categorical_crossentropy',\n",
    "                   optimizer='Adam',\n",
    "                   metrics=['accuracy'])\n",
    "\n",
    "\n",
    "''' set the size of mini-batch and number of epochs'''\n",
    "batch_size = 16\n",
    "epochs = 30\n",
    "\n",
    "'''Fit models and use validation_split=0.1 '''\n",
    "history_adam = model_adam.fit(x_train, y_train,\n",
    "                              batch_size=batch_size,\n",
    "                              epochs=epochs,\n",
    "                              verbose=1,\n",
    "                              shuffle=True,\n",
    "                              validation_split=0.1)"
   ]
  },
  {
   "cell_type": "code",
   "execution_count": 10,
   "metadata": {},
   "outputs": [
    {
     "data": {
      "image/png": "[encoded data removed]",
      "text/plain": [
       "<matplotlib.figure.Figure at 0x24aa07df320>"
      ]
     },
     "metadata": {},
     "output_type": "display_data"
    },
    {
     "name": "stdout",
     "output_type": "stream",
     "text": [
      "Result saved into 05_overfittingCheck.png\n"
     ]
    }
   ],
   "source": [
    "'''Access the loss and accuracy in every epoch'''\n",
    "loss_adam= history_adam.history.get('loss')\n",
    "acc_adam = history_adam.history.get('acc')\n",
    "\n",
    "''' Access the performance on validation data '''\n",
    "val_loss_adam = history_adam.history.get('val_loss')\n",
    "val_acc_adam = history_adam.history.get('val_acc')\n",
    "\n",
    "''' Visualize the loss and accuracy of both models'''\n",
    "import matplotlib.pyplot as plt\n",
    "plt.figure(0,figsize=(8,6))\n",
    "plt.subplot(121)\n",
    "plt.plot(range(len(loss_adam)), loss_adam,label='Training')\n",
    "plt.plot(range(len(val_loss_adam)), val_loss_adam,label='Validation')\n",
    "plt.title('Loss')\n",
    "plt.xlabel(\"epoch\")\n",
    "plt.legend(loc='upper left')\n",
    "plt.subplot(122)\n",
    "plt.plot(range(len(acc_adam)), acc_adam,label='Training')\n",
    "plt.plot(range(len(val_acc_adam)), val_acc_adam,label='Validation')\n",
    "plt.title('Accuracy')\n",
    "plt.xlabel(\"epoch\")\n",
    "plt.tight_layout()\n",
    "plt.savefig('05_overfittingCheck.png',dpi=300,format='png')\n",
    "plt.show()\n",
    "plt.close()\n",
    "print('Result saved into 05_overfittingCheck.png')"
   ]
  }
 ],
 "metadata": {
  "kernelspec": {
   "display_name": "Python 3",
   "language": "python",
   "name": "python3"
  },
  "language_info": {
   "codemirror_mode": {
    "name": "ipython",
    "version": 3
   },
   "file_extension": ".py",
   "mimetype": "text/x-python",
   "name": "python",
   "nbconvert_exporter": "python",
   "pygments_lexer": "ipython3",
   "version": "3.5.3"
  }
 },
 "nbformat": 4,
 "nbformat_minor": 2
}
