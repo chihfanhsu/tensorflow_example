{
 "cells": [
  {
   "cell_type": "code",
   "execution_count": 1,
   "metadata": {},
   "outputs": [],
   "source": [
    "# Modified from Jimmy Chang's codes"
   ]
  },
  {
   "cell_type": "code",
   "execution_count": 2,
   "metadata": {},
   "outputs": [
    {
     "name": "stderr",
     "output_type": "stream",
     "text": [
      "c:\\users\\silver\\appdata\\local\\programs\\python\\python35\\lib\\site-packages\\h5py\\__init__.py:36: FutureWarning: Conversion of the second argument of issubdtype from `float` to `np.floating` is deprecated. In future, it will be treated as `np.float64 == np.dtype(float).type`.\n",
      "  from ._conv import register_converters as _register_converters\n",
      "Using TensorFlow backend.\n"
     ]
    }
   ],
   "source": [
    "from __future__ import print_function\n",
    "import keras\n",
    "from keras.datasets import mnist\n",
    "from keras.models import Sequential\n",
    "from keras.layers.core import Dense, Activation\n",
    "\n",
    "batch_size = 128\n",
    "num_classes = 10\n",
    "epochs = 12\n",
    "\n",
    "# input image dimensions\n",
    "img_rows, img_cols = 28, 28\n",
    "\n",
    "# the data, shuffled and split between train and test sets\n",
    "(x_train, y_train), (x_test, y_test) = mnist.load_data()"
   ]
  },
  {
   "cell_type": "code",
   "execution_count": 3,
   "metadata": {},
   "outputs": [
    {
     "name": "stdout",
     "output_type": "stream",
     "text": [
      "training inputs (60000, 28, 28)\n",
      "training labels (60000,)\n",
      "testing inputs (10000, 28, 28)\n",
      "testing inputs (10000,)\n"
     ]
    }
   ],
   "source": [
    "print(\"training inputs\",x_train.shape)\n",
    "print(\"training labels\",y_train.shape)\n",
    "print(\"testing inputs\",x_test.shape)\n",
    "print(\"testing inputs\",y_test.shape)"
   ]
  },
  {
   "cell_type": "code",
   "execution_count": 4,
   "metadata": {},
   "outputs": [],
   "source": [
    "x_train = x_train.reshape(x_train.shape[0], img_rows*img_cols)\n",
    "x_test = x_test.reshape(x_test.shape[0], img_rows*img_cols)\n",
    "x_train = x_train.astype('float32')\n",
    "x_test = x_test.astype('float32')\n",
    "x_train /= 255\n",
    "x_test /= 255\n",
    "\n",
    "# convert class vectors to binary class matrices\n",
    "y_train = keras.utils.to_categorical(y_train, num_classes)\n",
    "y_test = keras.utils.to_categorical(y_test, num_classes)"
   ]
  },
  {
   "cell_type": "code",
   "execution_count": 5,
   "metadata": {},
   "outputs": [
    {
     "name": "stdout",
     "output_type": "stream",
     "text": [
      "training inputs (60000, 784)\n",
      "training labels (60000, 10)\n",
      "testing inputs (10000, 784)\n",
      "testing inputs (10000, 10)\n"
     ]
    }
   ],
   "source": [
    "print(\"training inputs\",x_train.shape)\n",
    "print(\"training labels\",y_train.shape)\n",
    "print(\"testing inputs\",x_test.shape)\n",
    "print(\"testing inputs\",y_test.shape)"
   ]
  },
  {
   "cell_type": "code",
   "execution_count": 6,
   "metadata": {},
   "outputs": [
    {
     "name": "stdout",
     "output_type": "stream",
     "text": [
      "Building a model whose optimizer=\"Adam\", activation function=relu\n",
      "Building a model whose optimizer=\"SGD\", activation function=relu\n"
     ]
    }
   ],
   "source": [
    "print('Building a model whose optimizer=\"Adam\", activation function=relu')\n",
    "model_adam = Sequential()\n",
    "model_adam.add(Dense(512, input_dim=x_train.shape[1]))\n",
    "model_adam.add(Activation('relu'))\n",
    "model_adam.add(Dense(512))\n",
    "model_adam.add(Activation('relu'))\n",
    "model_adam.add(Dense(10))\n",
    "model_adam.add(Activation('softmax'))\n",
    "\n",
    "print('Building a model whose optimizer=\"SGD\", activation function=relu')\n",
    "model_sgd = Sequential()\n",
    "model_sgd.add(Dense(512, input_dim=x_train.shape[1]))\n",
    "model_sgd.add(Activation('relu'))\n",
    "model_sgd.add(Dense(512))\n",
    "model_sgd.add(Activation('relu'))\n",
    "model_sgd.add(Dense(10))\n",
    "model_sgd.add(Activation('softmax'))"
   ]
  },
  {
   "cell_type": "code",
   "execution_count": 7,
   "metadata": {
    "scrolled": false
   },
   "outputs": [
    {
     "name": "stdout",
     "output_type": "stream",
     "text": [
      "Train on 54000 samples, validate on 6000 samples\n",
      "Epoch 1/30\n",
      "54000/54000 [==============================] - 19s 358us/step - loss: 1.3567 - acc: 0.7011 - val_loss: 0.6330 - val_acc: 0.8810\n",
      "Epoch 2/30\n",
      "54000/54000 [==============================] - 18s 334us/step - loss: 0.5534 - acc: 0.8651 - val_loss: 0.3795 - val_acc: 0.9097\n",
      "Epoch 3/30\n",
      "54000/54000 [==============================] - 18s 333us/step - loss: 0.4151 - acc: 0.8899 - val_loss: 0.3094 - val_acc: 0.9188\n",
      "Epoch 4/30\n",
      "54000/54000 [==============================] - 18s 336us/step - loss: 0.3611 - acc: 0.9001 - val_loss: 0.2752 - val_acc: 0.9258\n",
      "Epoch 5/30\n",
      "54000/54000 [==============================] - 18s 335us/step - loss: 0.3295 - acc: 0.9076 - val_loss: 0.2550 - val_acc: 0.9292\n",
      "Epoch 6/30\n",
      "54000/54000 [==============================] - 18s 336us/step - loss: 0.3074 - acc: 0.9136 - val_loss: 0.2395 - val_acc: 0.9335\n",
      "Epoch 7/30\n",
      "54000/54000 [==============================] - 18s 334us/step - loss: 0.2903 - acc: 0.9178 - val_loss: 0.2280 - val_acc: 0.9370\n",
      "Epoch 8/30\n",
      "54000/54000 [==============================] - 18s 341us/step - loss: 0.2763 - acc: 0.9224 - val_loss: 0.2184 - val_acc: 0.9400\n",
      "Epoch 9/30\n",
      "54000/54000 [==============================] - 18s 341us/step - loss: 0.2644 - acc: 0.9254 - val_loss: 0.2098 - val_acc: 0.9428\n",
      "Epoch 10/30\n",
      "54000/54000 [==============================] - 18s 335us/step - loss: 0.2536 - acc: 0.9282 - val_loss: 0.2016 - val_acc: 0.9455\n",
      "Epoch 11/30\n",
      "54000/54000 [==============================] - 19s 349us/step - loss: 0.2438 - acc: 0.9317 - val_loss: 0.1941 - val_acc: 0.9450\n",
      "Epoch 12/30\n",
      "54000/54000 [==============================] - 19s 350us/step - loss: 0.2349 - acc: 0.9339 - val_loss: 0.1868 - val_acc: 0.9490\n",
      "Epoch 13/30\n",
      "54000/54000 [==============================] - 19s 353us/step - loss: 0.2268 - acc: 0.9360 - val_loss: 0.1820 - val_acc: 0.9517\n",
      "Epoch 14/30\n",
      "54000/54000 [==============================] - 18s 337us/step - loss: 0.2190 - acc: 0.9383 - val_loss: 0.1758 - val_acc: 0.9525\n",
      "Epoch 15/30\n",
      "54000/54000 [==============================] - 18s 342us/step - loss: 0.2120 - acc: 0.9401 - val_loss: 0.1700 - val_acc: 0.9537\n",
      "Epoch 16/30\n",
      "54000/54000 [==============================] - 18s 341us/step - loss: 0.2053 - acc: 0.9420 - val_loss: 0.1660 - val_acc: 0.9557\n",
      "Epoch 17/30\n",
      "54000/54000 [==============================] - 18s 342us/step - loss: 0.1991 - acc: 0.9438 - val_loss: 0.1622 - val_acc: 0.9558\n",
      "Epoch 18/30\n",
      "54000/54000 [==============================] - 18s 342us/step - loss: 0.1931 - acc: 0.9454 - val_loss: 0.1574 - val_acc: 0.9595\n",
      "Epoch 19/30\n",
      "54000/54000 [==============================] - 18s 341us/step - loss: 0.1877 - acc: 0.9465 - val_loss: 0.1530 - val_acc: 0.9593\n",
      "Epoch 20/30\n",
      "54000/54000 [==============================] - 19s 343us/step - loss: 0.1824 - acc: 0.9484 - val_loss: 0.1490 - val_acc: 0.9603\n",
      "Epoch 21/30\n",
      "54000/54000 [==============================] - 19s 345us/step - loss: 0.1771 - acc: 0.9500 - val_loss: 0.1462 - val_acc: 0.9615\n",
      "Epoch 22/30\n",
      "54000/54000 [==============================] - 18s 326us/step - loss: 0.1727 - acc: 0.9512 - val_loss: 0.1438 - val_acc: 0.9627\n",
      "Epoch 23/30\n",
      "54000/54000 [==============================] - 19s 346us/step - loss: 0.1679 - acc: 0.9527 - val_loss: 0.1397 - val_acc: 0.9637\n",
      "Epoch 24/30\n",
      "54000/54000 [==============================] - 19s 353us/step - loss: 0.1637 - acc: 0.9539 - val_loss: 0.1365 - val_acc: 0.9642\n",
      "Epoch 25/30\n",
      "54000/54000 [==============================] - 18s 324us/step - loss: 0.1596 - acc: 0.9549 - val_loss: 0.1340 - val_acc: 0.9647\n",
      "Epoch 26/30\n",
      "54000/54000 [==============================] - 18s 334us/step - loss: 0.1556 - acc: 0.9560 - val_loss: 0.1308 - val_acc: 0.9657\n",
      "Epoch 27/30\n",
      "54000/54000 [==============================] - 18s 326us/step - loss: 0.1519 - acc: 0.9570 - val_loss: 0.1287 - val_acc: 0.9662\n",
      "Epoch 28/30\n",
      "54000/54000 [==============================] - 17s 323us/step - loss: 0.1481 - acc: 0.9578 - val_loss: 0.1264 - val_acc: 0.9670\n",
      "Epoch 29/30\n",
      "54000/54000 [==============================] - 19s 357us/step - loss: 0.1447 - acc: 0.9591 - val_loss: 0.1239 - val_acc: 0.9673\n",
      "Epoch 30/30\n",
      "54000/54000 [==============================] - 19s 354us/step - loss: 0.1414 - acc: 0.9598 - val_loss: 0.1215 - val_acc: 0.9677\n",
      "Train on 54000 samples, validate on 6000 samples\n",
      "Epoch 1/30\n",
      "54000/54000 [==============================] - 23s 432us/step - loss: 0.1947 - acc: 0.9406 - val_loss: 0.0997 - val_acc: 0.9688\n",
      "Epoch 2/30\n",
      "54000/54000 [==============================] - 23s 431us/step - loss: 0.0899 - acc: 0.9724 - val_loss: 0.0923 - val_acc: 0.9742\n",
      "Epoch 3/30\n",
      "54000/54000 [==============================] - 24s 453us/step - loss: 0.0640 - acc: 0.9803 - val_loss: 0.0814 - val_acc: 0.9767\n",
      "Epoch 4/30\n",
      "54000/54000 [==============================] - 23s 430us/step - loss: 0.0506 - acc: 0.9846 - val_loss: 0.0899 - val_acc: 0.9747\n",
      "Epoch 5/30\n",
      "54000/54000 [==============================] - 24s 436us/step - loss: 0.0394 - acc: 0.9881 - val_loss: 0.0962 - val_acc: 0.9745\n",
      "Epoch 6/30\n",
      "54000/54000 [==============================] - 23s 429us/step - loss: 0.0367 - acc: 0.9888 - val_loss: 0.0969 - val_acc: 0.9785\n",
      "Epoch 7/30\n",
      "54000/54000 [==============================] - 24s 436us/step - loss: 0.0322 - acc: 0.9901 - val_loss: 0.0928 - val_acc: 0.9782\n",
      "Epoch 8/30\n",
      "54000/54000 [==============================] - 24s 444us/step - loss: 0.0294 - acc: 0.9913 - val_loss: 0.0877 - val_acc: 0.9800\n",
      "Epoch 9/30\n",
      "54000/54000 [==============================] - 23s 429us/step - loss: 0.0267 - acc: 0.9925 - val_loss: 0.1213 - val_acc: 0.9778\n",
      "Epoch 10/30\n",
      "54000/54000 [==============================] - 23s 428us/step - loss: 0.0277 - acc: 0.9928 - val_loss: 0.1003 - val_acc: 0.9805\n",
      "Epoch 11/30\n",
      "54000/54000 [==============================] - 23s 431us/step - loss: 0.0245 - acc: 0.9936 - val_loss: 0.1282 - val_acc: 0.9770\n",
      "Epoch 12/30\n",
      "54000/54000 [==============================] - 23s 433us/step - loss: 0.0213 - acc: 0.9946 - val_loss: 0.0985 - val_acc: 0.9818\n",
      "Epoch 13/30\n",
      "54000/54000 [==============================] - 24s 438us/step - loss: 0.0221 - acc: 0.9939 - val_loss: 0.1206 - val_acc: 0.9817\n",
      "Epoch 14/30\n",
      "54000/54000 [==============================] - 23s 435us/step - loss: 0.0230 - acc: 0.9946 - val_loss: 0.1233 - val_acc: 0.9820\n",
      "Epoch 15/30\n",
      "54000/54000 [==============================] - 24s 447us/step - loss: 0.0207 - acc: 0.9950 - val_loss: 0.1181 - val_acc: 0.9805\n",
      "Epoch 16/30\n",
      "54000/54000 [==============================] - 24s 437us/step - loss: 0.0196 - acc: 0.9954 - val_loss: 0.1264 - val_acc: 0.9832\n",
      "Epoch 17/30\n",
      "54000/54000 [==============================] - 24s 437us/step - loss: 0.0186 - acc: 0.9956 - val_loss: 0.1278 - val_acc: 0.9827\n",
      "Epoch 18/30\n",
      "54000/54000 [==============================] - 23s 433us/step - loss: 0.0231 - acc: 0.9952 - val_loss: 0.1395 - val_acc: 0.9820\n",
      "Epoch 19/30\n",
      "54000/54000 [==============================] - 23s 435us/step - loss: 0.0215 - acc: 0.9957 - val_loss: 0.1571 - val_acc: 0.9792\n",
      "Epoch 20/30\n",
      "54000/54000 [==============================] - 23s 431us/step - loss: 0.0253 - acc: 0.9950 - val_loss: 0.1572 - val_acc: 0.9802\n",
      "Epoch 21/30\n",
      "54000/54000 [==============================] - 23s 433us/step - loss: 0.0227 - acc: 0.9956 - val_loss: 0.1249 - val_acc: 0.9848\n",
      "Epoch 22/30\n",
      "54000/54000 [==============================] - 23s 433us/step - loss: 0.0157 - acc: 0.9966 - val_loss: 0.1235 - val_acc: 0.9835\n",
      "Epoch 23/30\n",
      "54000/54000 [==============================] - 23s 423us/step - loss: 0.0223 - acc: 0.9956 - val_loss: 0.1350 - val_acc: 0.9828\n",
      "Epoch 24/30\n",
      "54000/54000 [==============================] - 23s 423us/step - loss: 0.0178 - acc: 0.9962 - val_loss: 0.1390 - val_acc: 0.9823\n",
      "Epoch 25/30\n",
      "54000/54000 [==============================] - 23s 432us/step - loss: 0.0229 - acc: 0.9958 - val_loss: 0.1553 - val_acc: 0.9803\n",
      "Epoch 26/30\n",
      "54000/54000 [==============================] - 23s 425us/step - loss: 0.0163 - acc: 0.9971 - val_loss: 0.1479 - val_acc: 0.9835\n",
      "Epoch 27/30\n",
      "54000/54000 [==============================] - 23s 423us/step - loss: 0.0186 - acc: 0.9966 - val_loss: 0.1844 - val_acc: 0.9800\n",
      "Epoch 28/30\n",
      "54000/54000 [==============================] - 24s 446us/step - loss: 0.0204 - acc: 0.9965 - val_loss: 0.1977 - val_acc: 0.9807\n"
     ]
    },
    {
     "name": "stdout",
     "output_type": "stream",
     "text": [
      "Epoch 29/30\n",
      "54000/54000 [==============================] - 23s 434us/step - loss: 0.0251 - acc: 0.9961 - val_loss: 0.1622 - val_acc: 0.9828\n",
      "Epoch 30/30\n",
      "54000/54000 [==============================] - 23s 422us/step - loss: 0.0143 - acc: 0.9973 - val_loss: 0.1754 - val_acc: 0.9817\n"
     ]
    }
   ],
   "source": [
    "''' Set up the optimizer '''\n",
    "from keras.optimizers import SGD, Adam, RMSprop, Adagrad\n",
    "model_sgd.compile(loss='categorical_crossentropy',\n",
    "                  optimizer=SGD(lr=0.001),\n",
    "                  metrics=['accuracy'])\n",
    "\n",
    "model_adam.compile(loss= 'categorical_crossentropy',\n",
    "                   optimizer='Adam',\n",
    "                   metrics=['accuracy'])\n",
    "\n",
    "\n",
    "''' set the size of mini-batch and number of epochs'''\n",
    "batch_size = 16\n",
    "epochs = 30\n",
    "\n",
    "'''Fit models and use validation_split=0.1 '''\n",
    "history_sgd = model_sgd.fit(x_train, y_train,\n",
    "                            batch_size=batch_size,\n",
    "                            epochs=epochs,\n",
    "                            verbose=1,\n",
    "                            shuffle=True,\n",
    "                            validation_split=0.1)\n",
    "\n",
    "history_adam = model_adam.fit(x_train, y_train,\n",
    "                              batch_size=batch_size,\n",
    "                              epochs=epochs,\n",
    "                              verbose=1,\n",
    "                              shuffle=True,\n",
    "                              validation_split=0.1)"
   ]
  },
  {
   "cell_type": "code",
   "execution_count": 8,
   "metadata": {},
   "outputs": [
    {
     "data": {
      "image/png": "[encoded data removed]",
      "text/plain": [
       "<matplotlib.figure.Figure at 0x2bb826e0588>"
      ]
     },
     "metadata": {},
     "output_type": "display_data"
    },
    {
     "name": "stdout",
     "output_type": "stream",
     "text": [
      "Result saved into 04_optimizerSelection.png\n"
     ]
    }
   ],
   "source": [
    "'''Access the loss and accuracy in every epoch'''\n",
    "loss_sgd= history_sgd.history.get('loss')\n",
    "acc_sgd = history_sgd.history.get('acc')\n",
    "loss_adam= history_adam.history.get('loss')\n",
    "acc_adam = history_adam.history.get('acc')\n",
    "\n",
    "''' Visualize the loss and accuracy of both models'''\n",
    "import matplotlib.pyplot as plt\n",
    "plt.figure(0,figsize=(8,6))\n",
    "plt.subplot(121)\n",
    "plt.plot(range(len(loss_adam)), loss_adam,label='Adam')\n",
    "plt.plot(range(len(loss_sgd)), loss_sgd,label='SGD')\n",
    "plt.title('Loss')\n",
    "plt.xlabel(\"epoch\")\n",
    "plt.legend(loc='upper left')\n",
    "plt.subplot(122)\n",
    "plt.plot(range(len(acc_adam)), acc_adam,label='Adam')\n",
    "plt.plot(range(len(acc_sgd)), acc_sgd,label='SGD')\n",
    "plt.title('Accuracy')\n",
    "plt.xlabel(\"epoch\")\n",
    "plt.tight_layout()\n",
    "plt.savefig('04_optimizerSelection.png',dpi=300,format='png')\n",
    "plt.show()\n",
    "plt.close()\n",
    "print('Result saved into 04_optimizerSelection.png')"
   ]
  }
 ],
 "metadata": {
  "kernelspec": {
   "display_name": "Python 3",
   "language": "python",
   "name": "python3"
  },
  "language_info": {
   "codemirror_mode": {
    "name": "ipython",
    "version": 3
   },
   "file_extension": ".py",
   "mimetype": "text/x-python",
   "name": "python",
   "nbconvert_exporter": "python",
   "pygments_lexer": "ipython3",
   "version": "3.5.3"
  }
 },
 "nbformat": 4,
 "nbformat_minor": 2
}
