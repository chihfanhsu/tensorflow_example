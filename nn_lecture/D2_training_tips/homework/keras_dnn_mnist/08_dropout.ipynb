{
 "cells": [
  {
   "cell_type": "code",
   "execution_count": 1,
   "metadata": {},
   "outputs": [],
   "source": [
    "# Modified from Jimmy Chang's codes"
   ]
  },
  {
   "cell_type": "code",
   "execution_count": 2,
   "metadata": {},
   "outputs": [
    {
     "name": "stderr",
     "output_type": "stream",
     "text": [
      "c:\\users\\silver\\appdata\\local\\programs\\python\\python35\\lib\\site-packages\\h5py\\__init__.py:36: FutureWarning: Conversion of the second argument of issubdtype from `float` to `np.floating` is deprecated. In future, it will be treated as `np.float64 == np.dtype(float).type`.\n",
      "  from ._conv import register_converters as _register_converters\n",
      "Using TensorFlow backend.\n"
     ]
    }
   ],
   "source": [
    "from __future__ import print_function\n",
    "import keras\n",
    "from keras.datasets import mnist\n",
    "from keras.models import Sequential\n",
    "from keras.layers.core import Dense, Dropout, Activation\n",
    "\n",
    "batch_size = 128\n",
    "num_classes = 10\n",
    "epochs = 12\n",
    "\n",
    "# input image dimensions\n",
    "img_rows, img_cols = 28, 28\n",
    "\n",
    "# the data, shuffled and split between train and test sets\n",
    "(x_train, y_train), (x_test, y_test) = mnist.load_data()"
   ]
  },
  {
   "cell_type": "code",
   "execution_count": 3,
   "metadata": {},
   "outputs": [
    {
     "name": "stdout",
     "output_type": "stream",
     "text": [
      "training inputs (60000, 28, 28)\n",
      "training labels (60000,)\n",
      "testing inputs (10000, 28, 28)\n",
      "testing inputs (10000,)\n"
     ]
    }
   ],
   "source": [
    "print(\"training inputs\",x_train.shape)\n",
    "print(\"training labels\",y_train.shape)\n",
    "print(\"testing inputs\",x_test.shape)\n",
    "print(\"testing inputs\",y_test.shape)"
   ]
  },
  {
   "cell_type": "code",
   "execution_count": 4,
   "metadata": {},
   "outputs": [],
   "source": [
    "x_train = x_train.reshape(x_train.shape[0], img_rows*img_cols)\n",
    "x_test = x_test.reshape(x_test.shape[0], img_rows*img_cols)\n",
    "x_train = x_train.astype('float32')\n",
    "x_test = x_test.astype('float32')\n",
    "x_train /= 255\n",
    "x_test /= 255\n",
    "\n",
    "# convert class vectors to binary class matrices\n",
    "y_train = keras.utils.to_categorical(y_train, num_classes)\n",
    "y_test = keras.utils.to_categorical(y_test, num_classes)"
   ]
  },
  {
   "cell_type": "code",
   "execution_count": 5,
   "metadata": {},
   "outputs": [
    {
     "name": "stdout",
     "output_type": "stream",
     "text": [
      "training inputs (60000, 784)\n",
      "training labels (60000, 10)\n",
      "testing inputs (10000, 784)\n",
      "testing inputs (10000, 10)\n"
     ]
    }
   ],
   "source": [
    "print(\"training inputs\",x_train.shape)\n",
    "print(\"training labels\",y_train.shape)\n",
    "print(\"testing inputs\",x_test.shape)\n",
    "print(\"testing inputs\",y_test.shape)"
   ]
  },
  {
   "cell_type": "code",
   "execution_count": 6,
   "metadata": {},
   "outputs": [
    {
     "name": "stdout",
     "output_type": "stream",
     "text": [
      "Building current best model with Dropout = 0.45\n"
     ]
    }
   ],
   "source": [
    "print('Building current best model with Dropout = 0.45')\n",
    "model_adam = Sequential()\n",
    "model_adam.add(Dense(512, input_dim=x_train.shape[1]))\n",
    "model_adam.add(Activation('relu'))\n",
    "model_adam.add(Dropout(0.45))\n",
    "model_adam.add(Dense(512))\n",
    "model_adam.add(Activation('relu'))\n",
    "model_adam.add(Dropout(0.45))\n",
    "model_adam.add(Dense(10))\n",
    "model_adam.add(Activation('softmax'))"
   ]
  },
  {
   "cell_type": "code",
   "execution_count": 7,
   "metadata": {},
   "outputs": [
    {
     "name": "stdout",
     "output_type": "stream",
     "text": [
      "Train on 54000 samples, validate on 6000 samples\n",
      "Epoch 1/30\n",
      "54000/54000 [==============================] - 24s 449us/step - loss: 0.3069 - acc: 0.9069 - val_loss: 0.0979 - val_acc: 0.9717\n",
      "Epoch 2/30\n",
      "54000/54000 [==============================] - 23s 420us/step - loss: 0.1816 - acc: 0.9484 - val_loss: 0.0946 - val_acc: 0.9725\n",
      "Epoch 3/30\n",
      "54000/54000 [==============================] - 23s 420us/step - loss: 0.1616 - acc: 0.9522 - val_loss: 0.0891 - val_acc: 0.9738\n",
      "Epoch 4/30\n",
      "54000/54000 [==============================] - 23s 421us/step - loss: 0.1447 - acc: 0.9588 - val_loss: 0.0738 - val_acc: 0.9797\n",
      "Epoch 5/30\n",
      "54000/54000 [==============================] - 23s 421us/step - loss: 0.1346 - acc: 0.9618 - val_loss: 0.0762 - val_acc: 0.9800\n",
      "Epoch 6/30\n",
      "54000/54000 [==============================] - 23s 422us/step - loss: 0.1300 - acc: 0.9643 - val_loss: 0.0630 - val_acc: 0.9800\n",
      "Epoch 7/30\n",
      "54000/54000 [==============================] - 23s 422us/step - loss: 0.1199 - acc: 0.9674 - val_loss: 0.0676 - val_acc: 0.9810\n",
      "Epoch 8/30\n",
      "54000/54000 [==============================] - 23s 423us/step - loss: 0.1175 - acc: 0.9675 - val_loss: 0.0681 - val_acc: 0.9797\n",
      "Epoch 9/30\n",
      "54000/54000 [==============================] - 23s 428us/step - loss: 0.1156 - acc: 0.9689 - val_loss: 0.0660 - val_acc: 0.9810\n",
      "Epoch 10/30\n",
      "54000/54000 [==============================] - 23s 423us/step - loss: 0.1085 - acc: 0.9709 - val_loss: 0.0642 - val_acc: 0.9808\n",
      "Epoch 11/30\n",
      "54000/54000 [==============================] - 23s 425us/step - loss: 0.1039 - acc: 0.9722 - val_loss: 0.0590 - val_acc: 0.9833\n",
      "Epoch 12/30\n",
      "54000/54000 [==============================] - 23s 423us/step - loss: 0.1067 - acc: 0.9724 - val_loss: 0.0647 - val_acc: 0.9833\n",
      "Epoch 13/30\n",
      "54000/54000 [==============================] - 23s 425us/step - loss: 0.1058 - acc: 0.9730 - val_loss: 0.0780 - val_acc: 0.9815\n",
      "Epoch 14/30\n",
      "54000/54000 [==============================] - 23s 425us/step - loss: 0.1021 - acc: 0.9732 - val_loss: 0.0697 - val_acc: 0.9820\n",
      "Epoch 15/30\n",
      "54000/54000 [==============================] - 23s 424us/step - loss: 0.1039 - acc: 0.9742 - val_loss: 0.0699 - val_acc: 0.9820\n",
      "Epoch 16/30\n",
      "54000/54000 [==============================] - 23s 425us/step - loss: 0.1022 - acc: 0.9752 - val_loss: 0.0578 - val_acc: 0.9843\n",
      "Epoch 17/30\n",
      "54000/54000 [==============================] - 23s 424us/step - loss: 0.1057 - acc: 0.9746 - val_loss: 0.0630 - val_acc: 0.9832\n",
      "Epoch 18/30\n",
      "54000/54000 [==============================] - 23s 426us/step - loss: 0.0990 - acc: 0.9764 - val_loss: 0.0646 - val_acc: 0.9838\n",
      "Epoch 19/30\n",
      "54000/54000 [==============================] - 23s 425us/step - loss: 0.1005 - acc: 0.9770 - val_loss: 0.0835 - val_acc: 0.9807\n",
      "Epoch 20/30\n",
      "54000/54000 [==============================] - 23s 425us/step - loss: 0.0996 - acc: 0.9765 - val_loss: 0.0590 - val_acc: 0.9832\n",
      "Epoch 21/30\n",
      "54000/54000 [==============================] - 23s 426us/step - loss: 0.0989 - acc: 0.9767 - val_loss: 0.0638 - val_acc: 0.9833\n",
      "Epoch 22/30\n",
      "54000/54000 [==============================] - 23s 427us/step - loss: 0.0936 - acc: 0.9782 - val_loss: 0.0801 - val_acc: 0.9817\n",
      "Epoch 23/30\n",
      "54000/54000 [==============================] - 23s 425us/step - loss: 0.0966 - acc: 0.9778 - val_loss: 0.0772 - val_acc: 0.9833\n",
      "Epoch 24/30\n",
      "54000/54000 [==============================] - 23s 426us/step - loss: 0.0991 - acc: 0.9774 - val_loss: 0.0712 - val_acc: 0.9838\n",
      "Epoch 25/30\n",
      "54000/54000 [==============================] - 23s 424us/step - loss: 0.0962 - acc: 0.9776 - val_loss: 0.0861 - val_acc: 0.9808\n",
      "Epoch 26/30\n",
      "54000/54000 [==============================] - 24s 443us/step - loss: 0.1005 - acc: 0.9782 - val_loss: 0.0795 - val_acc: 0.9825\n",
      "Epoch 27/30\n",
      "54000/54000 [==============================] - 26s 477us/step - loss: 0.0949 - acc: 0.9796 - val_loss: 0.0797 - val_acc: 0.9833\n",
      "Epoch 28/30\n",
      "54000/54000 [==============================] - 26s 476us/step - loss: 0.0979 - acc: 0.9792 - val_loss: 0.0731 - val_acc: 0.9830\n",
      "Epoch 29/30\n",
      "54000/54000 [==============================] - 26s 473us/step - loss: 0.0952 - acc: 0.9792 - val_loss: 0.0886 - val_acc: 0.9832\n",
      "Epoch 30/30\n",
      "54000/54000 [==============================] - 26s 473us/step - loss: 0.1003 - acc: 0.9796 - val_loss: 0.0775 - val_acc: 0.9825\n"
     ]
    }
   ],
   "source": [
    "''' Set up the optimizer '''\n",
    "from keras.optimizers import SGD, Adam, RMSprop, Adagrad\n",
    "\n",
    "''' Compile model with specified loss and optimizer '''\n",
    "model_adam.compile(loss= 'categorical_crossentropy',\n",
    "                   optimizer='Adam',\n",
    "                   metrics=['accuracy'])\n",
    "''' set the size of mini-batch and number of epochs'''\n",
    "batch_size = 16\n",
    "epochs = 30\n",
    "\n",
    "'''Fit models and use validation_split=0.1 '''\n",
    "history_adam = model_adam.fit(x_train, y_train,\n",
    "                              batch_size=batch_size,\n",
    "                              epochs=epochs,\n",
    "                              verbose=1,\n",
    "                              shuffle=True,\n",
    "                              validation_split=0.1)"
   ]
  },
  {
   "cell_type": "code",
   "execution_count": 8,
   "metadata": {},
   "outputs": [
    {
     "data": {
      "image/png": "[encoded data removed]",
      "text/plain": [
       "<matplotlib.figure.Figure at 0x2d123159a58>"
      ]
     },
     "metadata": {},
     "output_type": "display_data"
    },
    {
     "name": "stdout",
     "output_type": "stream",
     "text": [
      "Result saved into 08_dropout.png\n"
     ]
    }
   ],
   "source": [
    "'''Access the loss and accuracy in every epoch'''\n",
    "loss_adam= history_adam.history.get('loss')\n",
    "acc_adam = history_adam.history.get('acc')\n",
    "val_loss_adam = history_adam.history.get('val_loss')\n",
    "val_acc_adam = history_adam.history.get('val_acc')\n",
    "\n",
    "''' Visualize the loss and accuracy of both models'''\n",
    "import matplotlib.pyplot as plt\n",
    "plt.figure(0,figsize=(8,6))\n",
    "plt.subplot(121)\n",
    "plt.plot(range(len(loss_adam)), loss_adam,label='Training')\n",
    "plt.plot(range(len(val_loss_adam)), val_loss_adam,label='Validation')\n",
    "plt.title('Loss')\n",
    "plt.xlabel(\"epoch\")\n",
    "plt.legend(loc='upper left')\n",
    "plt.subplot(122)\n",
    "plt.plot(range(len(acc_adam)), acc_adam,label='Training')\n",
    "plt.plot(range(len(val_acc_adam)), val_acc_adam,label='Validation')\n",
    "plt.title('Accuracy')\n",
    "plt.xlabel(\"epoch\")\n",
    "plt.tight_layout()\n",
    "plt.savefig('08_dropout.png',dpi=300,format='png')\n",
    "plt.show()\n",
    "plt.close()\n",
    "print('Result saved into 08_dropout.png')"
   ]
  }
 ],
 "metadata": {
  "kernelspec": {
   "display_name": "Python 3",
   "language": "python",
   "name": "python3"
  },
  "language_info": {
   "codemirror_mode": {
    "name": "ipython",
    "version": 3
   },
   "file_extension": ".py",
   "mimetype": "text/x-python",
   "name": "python",
   "nbconvert_exporter": "python",
   "pygments_lexer": "ipython3",
   "version": "3.5.3"
  }
 },
 "nbformat": 4,
 "nbformat_minor": 2
}
