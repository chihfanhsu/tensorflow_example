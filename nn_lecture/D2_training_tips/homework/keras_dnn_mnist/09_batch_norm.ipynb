{
 "cells": [
  {
   "cell_type": "code",
   "execution_count": 1,
   "metadata": {},
   "outputs": [],
   "source": [
    "# Modified from Jimmy Chang's codes"
   ]
  },
  {
   "cell_type": "code",
   "execution_count": 2,
   "metadata": {},
   "outputs": [
    {
     "name": "stderr",
     "output_type": "stream",
     "text": [
      "c:\\users\\silver\\appdata\\local\\programs\\python\\python35\\lib\\site-packages\\h5py\\__init__.py:36: FutureWarning: Conversion of the second argument of issubdtype from `float` to `np.floating` is deprecated. In future, it will be treated as `np.float64 == np.dtype(float).type`.\n",
      "  from ._conv import register_converters as _register_converters\n",
      "Using TensorFlow backend.\n"
     ]
    }
   ],
   "source": [
    "from __future__ import print_function\n",
    "import keras\n",
    "from keras.datasets import mnist\n",
    "from keras.models import Sequential\n",
    "from keras.layers.core import Dense, Dropout, Activation\n",
    "from keras.layers.normalization import BatchNormalization\n",
    "batch_size = 128\n",
    "num_classes = 10\n",
    "epochs = 12\n",
    "\n",
    "# input image dimensions\n",
    "img_rows, img_cols = 28, 28\n",
    "\n",
    "# the data, shuffled and split between train and test sets\n",
    "(x_train, y_train), (x_test, y_test) = mnist.load_data()"
   ]
  },
  {
   "cell_type": "code",
   "execution_count": 3,
   "metadata": {},
   "outputs": [
    {
     "name": "stdout",
     "output_type": "stream",
     "text": [
      "training inputs (60000, 28, 28)\n",
      "training labels (60000,)\n",
      "testing inputs (10000, 28, 28)\n",
      "testing inputs (10000,)\n"
     ]
    }
   ],
   "source": [
    "print(\"training inputs\",x_train.shape)\n",
    "print(\"training labels\",y_train.shape)\n",
    "print(\"testing inputs\",x_test.shape)\n",
    "print(\"testing inputs\",y_test.shape)"
   ]
  },
  {
   "cell_type": "code",
   "execution_count": 4,
   "metadata": {},
   "outputs": [],
   "source": [
    "x_train = x_train.reshape(x_train.shape[0], img_rows*img_cols)\n",
    "x_test = x_test.reshape(x_test.shape[0], img_rows*img_cols)\n",
    "x_train = x_train.astype('float32')\n",
    "x_test = x_test.astype('float32')\n",
    "x_train /= 255\n",
    "x_test /= 255\n",
    "\n",
    "# convert class vectors to binary class matrices\n",
    "y_train = keras.utils.to_categorical(y_train, num_classes)\n",
    "y_test = keras.utils.to_categorical(y_test, num_classes)"
   ]
  },
  {
   "cell_type": "code",
   "execution_count": 5,
   "metadata": {},
   "outputs": [
    {
     "name": "stdout",
     "output_type": "stream",
     "text": [
      "training inputs (60000, 784)\n",
      "training labels (60000, 10)\n",
      "testing inputs (10000, 784)\n",
      "testing inputs (10000, 10)\n"
     ]
    }
   ],
   "source": [
    "print(\"training inputs\",x_train.shape)\n",
    "print(\"training labels\",y_train.shape)\n",
    "print(\"testing inputs\",x_test.shape)\n",
    "print(\"testing inputs\",y_test.shape)"
   ]
  },
  {
   "cell_type": "code",
   "execution_count": 6,
   "metadata": {},
   "outputs": [
    {
     "name": "stdout",
     "output_type": "stream",
     "text": [
      "Building current best model with Dropout = 0.45\n"
     ]
    }
   ],
   "source": [
    "print('Building current best model with Dropout = 0.45')\n",
    "model_adam = Sequential()\n",
    "model_adam.add(Dense(512, input_dim=x_train.shape[1]))\n",
    "model_adam.add(Activation('relu'))\n",
    "model_adam.add(BatchNormalization())\n",
    "model_adam.add(Dense(512))\n",
    "model_adam.add(Activation('relu'))\n",
    "model_adam.add(BatchNormalization())\n",
    "model_adam.add(Dense(10))\n",
    "model_adam.add(Activation('softmax'))"
   ]
  },
  {
   "cell_type": "code",
   "execution_count": 7,
   "metadata": {},
   "outputs": [
    {
     "name": "stdout",
     "output_type": "stream",
     "text": [
      "Train on 54000 samples, validate on 6000 samples\n",
      "Epoch 1/30\n",
      "54000/54000 [==============================] - 33s 607us/step - loss: 0.2692 - acc: 0.9187 - val_loss: 0.1136 - val_acc: 0.9665\n",
      "Epoch 2/30\n",
      "54000/54000 [==============================] - 30s 564us/step - loss: 0.1566 - acc: 0.9526 - val_loss: 0.1068 - val_acc: 0.9718\n",
      "Epoch 3/30\n",
      "54000/54000 [==============================] - 31s 574us/step - loss: 0.1238 - acc: 0.9620 - val_loss: 0.0925 - val_acc: 0.9760\n",
      "Epoch 4/30\n",
      "54000/54000 [==============================] - 31s 577us/step - loss: 0.1010 - acc: 0.9684 - val_loss: 0.0921 - val_acc: 0.9752\n",
      "Epoch 5/30\n",
      "54000/54000 [==============================] - 31s 567us/step - loss: 0.0834 - acc: 0.9741 - val_loss: 0.0795 - val_acc: 0.9780\n",
      "Epoch 6/30\n",
      "54000/54000 [==============================] - 30s 553us/step - loss: 0.0764 - acc: 0.9762 - val_loss: 0.0911 - val_acc: 0.9765\n",
      "Epoch 7/30\n",
      "54000/54000 [==============================] - 30s 561us/step - loss: 0.0666 - acc: 0.9791 - val_loss: 0.0958 - val_acc: 0.9777\n",
      "Epoch 8/30\n",
      "54000/54000 [==============================] - 29s 539us/step - loss: 0.0620 - acc: 0.9803 - val_loss: 0.0924 - val_acc: 0.9783\n",
      "Epoch 9/30\n",
      "54000/54000 [==============================] - 28s 527us/step - loss: 0.0576 - acc: 0.9808 - val_loss: 0.0778 - val_acc: 0.9805\n",
      "Epoch 10/30\n",
      "54000/54000 [==============================] - 28s 525us/step - loss: 0.0512 - acc: 0.9838 - val_loss: 0.0967 - val_acc: 0.9803\n",
      "Epoch 11/30\n",
      "54000/54000 [==============================] - 29s 528us/step - loss: 0.0467 - acc: 0.9849 - val_loss: 0.1018 - val_acc: 0.9792\n",
      "Epoch 12/30\n",
      "54000/54000 [==============================] - 29s 529us/step - loss: 0.0438 - acc: 0.9858 - val_loss: 0.0922 - val_acc: 0.9803\n",
      "Epoch 13/30\n",
      "54000/54000 [==============================] - 28s 527us/step - loss: 0.0419 - acc: 0.9865 - val_loss: 0.0817 - val_acc: 0.9825\n",
      "Epoch 14/30\n",
      "54000/54000 [==============================] - 29s 531us/step - loss: 0.0381 - acc: 0.9875 - val_loss: 0.0817 - val_acc: 0.9825\n",
      "Epoch 15/30\n",
      "54000/54000 [==============================] - 28s 524us/step - loss: 0.0348 - acc: 0.9886 - val_loss: 0.0947 - val_acc: 0.9790\n",
      "Epoch 16/30\n",
      "54000/54000 [==============================] - 28s 527us/step - loss: 0.0326 - acc: 0.9895 - val_loss: 0.1042 - val_acc: 0.9810\n",
      "Epoch 17/30\n",
      "54000/54000 [==============================] - 29s 539us/step - loss: 0.0361 - acc: 0.9886 - val_loss: 0.0838 - val_acc: 0.9812\n",
      "Epoch 18/30\n",
      "54000/54000 [==============================] - 29s 533us/step - loss: 0.0299 - acc: 0.9903 - val_loss: 0.1002 - val_acc: 0.9808\n",
      "Epoch 19/30\n",
      "54000/54000 [==============================] - 29s 537us/step - loss: 0.0288 - acc: 0.9906 - val_loss: 0.1058 - val_acc: 0.9822\n",
      "Epoch 20/30\n",
      "54000/54000 [==============================] - 29s 539us/step - loss: 0.0268 - acc: 0.9911 - val_loss: 0.0917 - val_acc: 0.9813\n",
      "Epoch 21/30\n",
      "54000/54000 [==============================] - 29s 546us/step - loss: 0.0268 - acc: 0.9913 - val_loss: 0.1017 - val_acc: 0.9810\n",
      "Epoch 22/30\n",
      "54000/54000 [==============================] - 29s 540us/step - loss: 0.0243 - acc: 0.9921 - val_loss: 0.0969 - val_acc: 0.9830\n",
      "Epoch 23/30\n",
      "54000/54000 [==============================] - 29s 529us/step - loss: 0.0250 - acc: 0.9916 - val_loss: 0.1055 - val_acc: 0.9815\n",
      "Epoch 24/30\n",
      "54000/54000 [==============================] - 32s 597us/step - loss: 0.0238 - acc: 0.9923 - val_loss: 0.0957 - val_acc: 0.9823\n",
      "Epoch 25/30\n",
      "54000/54000 [==============================] - 33s 618us/step - loss: 0.0235 - acc: 0.9922 - val_loss: 0.0888 - val_acc: 0.9825\n",
      "Epoch 26/30\n",
      "54000/54000 [==============================] - 38s 699us/step - loss: 0.0221 - acc: 0.9928 - val_loss: 0.0937 - val_acc: 0.9823\n",
      "Epoch 27/30\n",
      "54000/54000 [==============================] - 31s 582us/step - loss: 0.0222 - acc: 0.9928 - val_loss: 0.0891 - val_acc: 0.9823\n",
      "Epoch 28/30\n",
      "54000/54000 [==============================] - 31s 570us/step - loss: 0.0210 - acc: 0.9930 - val_loss: 0.1043 - val_acc: 0.9832\n",
      "Epoch 29/30\n",
      "54000/54000 [==============================] - 32s 590us/step - loss: 0.0201 - acc: 0.9936 - val_loss: 0.1062 - val_acc: 0.9822\n",
      "Epoch 30/30\n",
      "54000/54000 [==============================] - 31s 567us/step - loss: 0.0207 - acc: 0.9932 - val_loss: 0.1104 - val_acc: 0.9807\n"
     ]
    }
   ],
   "source": [
    "''' Set up the optimizer '''\n",
    "from keras.optimizers import SGD, Adam, RMSprop, Adagrad\n",
    "\n",
    "''' Compile model with specified loss and optimizer '''\n",
    "model_adam.compile(loss= 'categorical_crossentropy',\n",
    "                   optimizer='Adam',\n",
    "                   metrics=['accuracy'])\n",
    "''' set the size of mini-batch and number of epochs'''\n",
    "batch_size = 16\n",
    "epochs = 30\n",
    "\n",
    "'''Fit models and use validation_split=0.1 '''\n",
    "history_adam = model_adam.fit(x_train, y_train,\n",
    "                              batch_size=batch_size,\n",
    "                              epochs=epochs,\n",
    "                              verbose=1,\n",
    "                              shuffle=True,\n",
    "                              validation_split=0.1)"
   ]
  },
  {
   "cell_type": "code",
   "execution_count": 10,
   "metadata": {},
   "outputs": [
    {
     "data": {
      "image/png": "[encoded data removed]",
      "text/plain": [
       "<matplotlib.figure.Figure at 0x1911c6bd240>"
      ]
     },
     "metadata": {},
     "output_type": "display_data"
    },
    {
     "name": "stdout",
     "output_type": "stream",
     "text": [
      "Result saved into 09_batch_norm.png\n"
     ]
    }
   ],
   "source": [
    "'''Access the loss and accuracy in every epoch'''\n",
    "loss_adam= history_adam.history.get('loss')\n",
    "acc_adam = history_adam.history.get('acc')\n",
    "val_loss_adam = history_adam.history.get('val_loss')\n",
    "val_acc_adam = history_adam.history.get('val_acc')\n",
    "\n",
    "''' Visualize the loss and accuracy of both models'''\n",
    "import matplotlib.pyplot as plt\n",
    "plt.figure(0,figsize=(8,6))\n",
    "plt.subplot(121)\n",
    "plt.plot(range(len(loss_adam)), loss_adam,label='Training')\n",
    "plt.plot(range(len(val_loss_adam)), val_loss_adam,label='Validation')\n",
    "plt.title('Loss')\n",
    "plt.xlabel(\"epoch\")\n",
    "plt.legend(loc='upper left')\n",
    "plt.subplot(122)\n",
    "plt.plot(range(len(acc_adam)), acc_adam,label='Training')\n",
    "plt.plot(range(len(val_acc_adam)), val_acc_adam,label='Validation')\n",
    "plt.title('Accuracy')\n",
    "plt.xlabel(\"epoch\")\n",
    "plt.tight_layout()\n",
    "plt.savefig('09_batch_norm.png',dpi=300,format='png')\n",
    "plt.show()\n",
    "plt.close()\n",
    "print('Result saved into 09_batch_norm.png')"
   ]
  }
 ],
 "metadata": {
  "kernelspec": {
   "display_name": "Python 3",
   "language": "python",
   "name": "python3"
  },
  "language_info": {
   "codemirror_mode": {
    "name": "ipython",
    "version": 3
   },
   "file_extension": ".py",
   "mimetype": "text/x-python",
   "name": "python",
   "nbconvert_exporter": "python",
   "pygments_lexer": "ipython3",
   "version": "3.5.3"
  }
 },
 "nbformat": 4,
 "nbformat_minor": 2
}
