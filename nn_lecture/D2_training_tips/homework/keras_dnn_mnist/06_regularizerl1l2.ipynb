{
 "cells": [
  {
   "cell_type": "code",
   "execution_count": 1,
   "metadata": {},
   "outputs": [],
   "source": [
    "# Modified from Jimmy Chang's codes"
   ]
  },
  {
   "cell_type": "code",
   "execution_count": 2,
   "metadata": {},
   "outputs": [
    {
     "name": "stderr",
     "output_type": "stream",
     "text": [
      "c:\\users\\silver\\appdata\\local\\programs\\python\\python35\\lib\\site-packages\\h5py\\__init__.py:36: FutureWarning: Conversion of the second argument of issubdtype from `float` to `np.floating` is deprecated. In future, it will be treated as `np.float64 == np.dtype(float).type`.\n",
      "  from ._conv import register_converters as _register_converters\n",
      "Using TensorFlow backend.\n"
     ]
    }
   ],
   "source": [
    "from __future__ import print_function\n",
    "import keras\n",
    "from keras.datasets import mnist\n",
    "from keras.models import Sequential\n",
    "from keras.layers.core import Dense, Activation\n",
    "from keras.regularizers import l1,l2\n",
    "\n",
    "batch_size = 128\n",
    "num_classes = 10\n",
    "epochs = 12\n",
    "\n",
    "# input image dimensions\n",
    "img_rows, img_cols = 28, 28\n",
    "\n",
    "# the data, shuffled and split between train and test sets\n",
    "(x_train, y_train), (x_test, y_test) = mnist.load_data()"
   ]
  },
  {
   "cell_type": "code",
   "execution_count": 3,
   "metadata": {},
   "outputs": [
    {
     "name": "stdout",
     "output_type": "stream",
     "text": [
      "training inputs (60000, 28, 28)\n",
      "training labels (60000,)\n",
      "testing inputs (10000, 28, 28)\n",
      "testing inputs (10000,)\n"
     ]
    }
   ],
   "source": [
    "print(\"training inputs\",x_train.shape)\n",
    "print(\"training labels\",y_train.shape)\n",
    "print(\"testing inputs\",x_test.shape)\n",
    "print(\"testing inputs\",y_test.shape)"
   ]
  },
  {
   "cell_type": "code",
   "execution_count": 4,
   "metadata": {},
   "outputs": [],
   "source": [
    "x_train = x_train.reshape(x_train.shape[0], img_rows*img_cols)\n",
    "x_test = x_test.reshape(x_test.shape[0], img_rows*img_cols)\n",
    "x_train = x_train.astype('float32')\n",
    "x_test = x_test.astype('float32')\n",
    "x_train /= 255\n",
    "x_test /= 255\n",
    "\n",
    "# convert class vectors to binary class matrices\n",
    "y_train = keras.utils.to_categorical(y_train, num_classes)\n",
    "y_test = keras.utils.to_categorical(y_test, num_classes)"
   ]
  },
  {
   "cell_type": "code",
   "execution_count": 5,
   "metadata": {},
   "outputs": [
    {
     "name": "stdout",
     "output_type": "stream",
     "text": [
      "training inputs (60000, 784)\n",
      "training labels (60000, 10)\n",
      "testing inputs (10000, 784)\n",
      "testing inputs (10000, 10)\n"
     ]
    }
   ],
   "source": [
    "print(\"training inputs\",x_train.shape)\n",
    "print(\"training labels\",y_train.shape)\n",
    "print(\"testing inputs\",x_test.shape)\n",
    "print(\"testing inputs\",y_test.shape)"
   ]
  },
  {
   "cell_type": "code",
   "execution_count": 6,
   "metadata": {},
   "outputs": [
    {
     "name": "stdout",
     "output_type": "stream",
     "text": [
      "Building a model with regularizer L2\n",
      "Building a model without regularizer L2\n"
     ]
    }
   ],
   "source": [
    "print('Building a model with regularizer L2')\n",
    "model_l2 = Sequential()\n",
    "model_l2.add(Dense(512, input_dim=x_train.shape[1], kernel_regularizer=l2(0.005)))\n",
    "model_l2.add(Activation('relu'))\n",
    "model_l2.add(Dense(512, kernel_regularizer=l2(0.005)))\n",
    "model_l2.add(Activation('relu'))\n",
    "model_l2.add(Dense(10))\n",
    "model_l2.add(Activation('softmax'))\n",
    "\n",
    "print('Building a model without regularizer L2')\n",
    "model_adam = Sequential()\n",
    "model_adam.add(Dense(512, input_dim=x_train.shape[1]))\n",
    "model_adam.add(Activation('relu'))\n",
    "model_adam.add(Dense(512))\n",
    "model_adam.add(Activation('relu'))\n",
    "model_adam.add(Dense(10))\n",
    "model_adam.add(Activation('softmax'))"
   ]
  },
  {
   "cell_type": "code",
   "execution_count": 7,
   "metadata": {
    "scrolled": false
   },
   "outputs": [
    {
     "name": "stdout",
     "output_type": "stream",
     "text": [
      "Train on 54000 samples, validate on 6000 samples\n",
      "Epoch 1/30\n",
      "54000/54000 [==============================] - 26s 485us/step - loss: 0.6940 - acc: 0.9092 - val_loss: 0.3955 - val_acc: 0.9433\n",
      "Epoch 2/30\n",
      "54000/54000 [==============================] - 24s 448us/step - loss: 0.3802 - acc: 0.9373 - val_loss: 0.3023 - val_acc: 0.9593\n",
      "Epoch 3/30\n",
      "54000/54000 [==============================] - 24s 450us/step - loss: 0.3355 - acc: 0.9449 - val_loss: 0.3098 - val_acc: 0.9517\n",
      "Epoch 4/30\n",
      "54000/54000 [==============================] - 24s 448us/step - loss: 0.3200 - acc: 0.9473 - val_loss: 0.2610 - val_acc: 0.9648\n",
      "Epoch 5/30\n",
      "54000/54000 [==============================] - 24s 449us/step - loss: 0.3094 - acc: 0.9470 - val_loss: 0.2703 - val_acc: 0.9600\n",
      "Epoch 6/30\n",
      "54000/54000 [==============================] - 24s 449us/step - loss: 0.3018 - acc: 0.9485 - val_loss: 0.2489 - val_acc: 0.9667\n",
      "Epoch 7/30\n",
      "54000/54000 [==============================] - 25s 458us/step - loss: 0.2955 - acc: 0.9497 - val_loss: 0.2902 - val_acc: 0.9515\n",
      "Epoch 8/30\n",
      "54000/54000 [==============================] - 25s 455us/step - loss: 0.2931 - acc: 0.9499 - val_loss: 0.2802 - val_acc: 0.9523\n",
      "Epoch 9/30\n",
      "54000/54000 [==============================] - 24s 453us/step - loss: 0.2935 - acc: 0.9489 - val_loss: 0.2509 - val_acc: 0.9650\n",
      "Epoch 10/30\n",
      "54000/54000 [==============================] - 25s 465us/step - loss: 0.2862 - acc: 0.9506 - val_loss: 0.2580 - val_acc: 0.9593\n",
      "Epoch 11/30\n",
      "54000/54000 [==============================] - 25s 466us/step - loss: 0.2832 - acc: 0.9511 - val_loss: 0.2699 - val_acc: 0.9538\n",
      "Epoch 12/30\n",
      "54000/54000 [==============================] - 25s 458us/step - loss: 0.2807 - acc: 0.9518 - val_loss: 0.2646 - val_acc: 0.9573\n",
      "Epoch 13/30\n",
      "54000/54000 [==============================] - 25s 461us/step - loss: 0.2775 - acc: 0.9531 - val_loss: 0.2605 - val_acc: 0.9540\n",
      "Epoch 14/30\n",
      "54000/54000 [==============================] - 25s 463us/step - loss: 0.2790 - acc: 0.9516 - val_loss: 0.2449 - val_acc: 0.9658\n",
      "Epoch 15/30\n",
      "54000/54000 [==============================] - 25s 462us/step - loss: 0.2743 - acc: 0.9527 - val_loss: 0.2361 - val_acc: 0.9665\n",
      "Epoch 16/30\n",
      "54000/54000 [==============================] - 25s 465us/step - loss: 0.2754 - acc: 0.9521 - val_loss: 0.2603 - val_acc: 0.9593\n",
      "Epoch 17/30\n",
      "54000/54000 [==============================] - 25s 464us/step - loss: 0.2729 - acc: 0.9520 - val_loss: 0.2666 - val_acc: 0.9555\n",
      "Epoch 18/30\n",
      "54000/54000 [==============================] - 25s 464us/step - loss: 0.2711 - acc: 0.9526 - val_loss: 0.2543 - val_acc: 0.9590\n",
      "Epoch 19/30\n",
      "54000/54000 [==============================] - 25s 464us/step - loss: 0.2699 - acc: 0.9528 - val_loss: 0.2629 - val_acc: 0.9570\n",
      "Epoch 20/30\n",
      "54000/54000 [==============================] - 25s 465us/step - loss: 0.2698 - acc: 0.9534 - val_loss: 0.2429 - val_acc: 0.9635\n",
      "Epoch 21/30\n",
      "54000/54000 [==============================] - 25s 470us/step - loss: 0.2668 - acc: 0.9541 - val_loss: 0.2429 - val_acc: 0.9618\n",
      "Epoch 22/30\n",
      "54000/54000 [==============================] - 25s 465us/step - loss: 0.2692 - acc: 0.9527 - val_loss: 0.2271 - val_acc: 0.9658\n",
      "Epoch 23/30\n",
      "54000/54000 [==============================] - 25s 462us/step - loss: 0.2649 - acc: 0.9541 - val_loss: 0.2553 - val_acc: 0.9590\n",
      "Epoch 24/30\n",
      "54000/54000 [==============================] - 25s 464us/step - loss: 0.2666 - acc: 0.9536 - val_loss: 0.2767 - val_acc: 0.9520\n",
      "Epoch 25/30\n",
      "54000/54000 [==============================] - 25s 463us/step - loss: 0.2664 - acc: 0.9536 - val_loss: 0.2262 - val_acc: 0.9665\n",
      "Epoch 26/30\n",
      "54000/54000 [==============================] - 25s 461us/step - loss: 0.2652 - acc: 0.9534 - val_loss: 0.2593 - val_acc: 0.9577\n",
      "Epoch 27/30\n",
      "54000/54000 [==============================] - 25s 465us/step - loss: 0.2661 - acc: 0.9529 - val_loss: 0.2450 - val_acc: 0.9610\n",
      "Epoch 28/30\n",
      "54000/54000 [==============================] - 25s 465us/step - loss: 0.2641 - acc: 0.9532 - val_loss: 0.2612 - val_acc: 0.9590\n",
      "Epoch 29/30\n",
      "54000/54000 [==============================] - 25s 465us/step - loss: 0.2597 - acc: 0.9549 - val_loss: 0.2465 - val_acc: 0.9617\n",
      "Epoch 30/30\n",
      "54000/54000 [==============================] - 25s 462us/step - loss: 0.2598 - acc: 0.9546 - val_loss: 0.2624 - val_acc: 0.9557\n",
      "Train on 54000 samples, validate on 6000 samples\n",
      "Epoch 1/30\n",
      "54000/54000 [==============================] - 23s 430us/step - loss: 0.1959 - acc: 0.9400 - val_loss: 0.0953 - val_acc: 0.9712\n",
      "Epoch 2/30\n",
      "54000/54000 [==============================] - 22s 414us/step - loss: 0.0896 - acc: 0.9725 - val_loss: 0.0874 - val_acc: 0.9720\n",
      "Epoch 3/30\n",
      "54000/54000 [==============================] - 22s 414us/step - loss: 0.0673 - acc: 0.9796 - val_loss: 0.0778 - val_acc: 0.9780\n",
      "Epoch 4/30\n",
      "54000/54000 [==============================] - 22s 414us/step - loss: 0.0506 - acc: 0.9850 - val_loss: 0.0740 - val_acc: 0.9790\n",
      "Epoch 5/30\n",
      "54000/54000 [==============================] - 22s 413us/step - loss: 0.0435 - acc: 0.9863 - val_loss: 0.0720 - val_acc: 0.9810\n",
      "Epoch 6/30\n",
      "54000/54000 [==============================] - 22s 411us/step - loss: 0.0368 - acc: 0.9890 - val_loss: 0.0747 - val_acc: 0.9805\n",
      "Epoch 7/30\n",
      "54000/54000 [==============================] - 22s 414us/step - loss: 0.0303 - acc: 0.9911 - val_loss: 0.0994 - val_acc: 0.9800\n",
      "Epoch 8/30\n",
      "54000/54000 [==============================] - 22s 413us/step - loss: 0.0307 - acc: 0.9913 - val_loss: 0.1053 - val_acc: 0.9792\n",
      "Epoch 9/30\n",
      "54000/54000 [==============================] - 22s 411us/step - loss: 0.0281 - acc: 0.9921 - val_loss: 0.1129 - val_acc: 0.9778\n",
      "Epoch 10/30\n",
      "54000/54000 [==============================] - 22s 413us/step - loss: 0.0232 - acc: 0.9930 - val_loss: 0.1008 - val_acc: 0.9823\n",
      "Epoch 11/30\n",
      "54000/54000 [==============================] - 22s 411us/step - loss: 0.0236 - acc: 0.9938 - val_loss: 0.1127 - val_acc: 0.9792\n",
      "Epoch 12/30\n",
      "54000/54000 [==============================] - 22s 413us/step - loss: 0.0258 - acc: 0.9936 - val_loss: 0.1006 - val_acc: 0.9817\n",
      "Epoch 13/30\n",
      "54000/54000 [==============================] - 22s 413us/step - loss: 0.0230 - acc: 0.9944 - val_loss: 0.0945 - val_acc: 0.9827\n",
      "Epoch 14/30\n",
      "54000/54000 [==============================] - 22s 413us/step - loss: 0.0198 - acc: 0.9949 - val_loss: 0.1026 - val_acc: 0.9827\n",
      "Epoch 15/30\n",
      "54000/54000 [==============================] - 22s 411us/step - loss: 0.0213 - acc: 0.9950 - val_loss: 0.1205 - val_acc: 0.9823\n",
      "Epoch 16/30\n",
      "54000/54000 [==============================] - 22s 414us/step - loss: 0.0203 - acc: 0.9951 - val_loss: 0.1409 - val_acc: 0.9763\n",
      "Epoch 17/30\n",
      "54000/54000 [==============================] - 22s 411us/step - loss: 0.0265 - acc: 0.9946 - val_loss: 0.1380 - val_acc: 0.9820\n",
      "Epoch 18/30\n",
      "54000/54000 [==============================] - 22s 413us/step - loss: 0.0218 - acc: 0.9954 - val_loss: 0.1199 - val_acc: 0.9835\n",
      "Epoch 19/30\n",
      "54000/54000 [==============================] - 22s 415us/step - loss: 0.0219 - acc: 0.9954 - val_loss: 0.2124 - val_acc: 0.9753\n",
      "Epoch 20/30\n",
      "54000/54000 [==============================] - 22s 415us/step - loss: 0.0193 - acc: 0.9962 - val_loss: 0.1894 - val_acc: 0.9792\n",
      "Epoch 21/30\n",
      "54000/54000 [==============================] - 22s 413us/step - loss: 0.0241 - acc: 0.9958 - val_loss: 0.1406 - val_acc: 0.9832\n",
      "Epoch 22/30\n",
      "54000/54000 [==============================] - 22s 414us/step - loss: 0.0241 - acc: 0.9958 - val_loss: 0.1841 - val_acc: 0.9798\n",
      "Epoch 23/30\n",
      "54000/54000 [==============================] - 22s 413us/step - loss: 0.0168 - acc: 0.9966 - val_loss: 0.1683 - val_acc: 0.9800\n",
      "Epoch 24/30\n",
      "54000/54000 [==============================] - 22s 413us/step - loss: 0.0274 - acc: 0.9951 - val_loss: 0.1574 - val_acc: 0.9807\n",
      "Epoch 25/30\n",
      "54000/54000 [==============================] - 22s 415us/step - loss: 0.0188 - acc: 0.9966 - val_loss: 0.1545 - val_acc: 0.9820\n",
      "Epoch 26/30\n",
      "54000/54000 [==============================] - 22s 414us/step - loss: 0.0242 - acc: 0.9959 - val_loss: 0.1870 - val_acc: 0.9792\n",
      "Epoch 27/30\n",
      "54000/54000 [==============================] - 22s 415us/step - loss: 0.0214 - acc: 0.9966 - val_loss: 0.2074 - val_acc: 0.9785\n",
      "Epoch 28/30\n",
      "54000/54000 [==============================] - 22s 413us/step - loss: 0.0265 - acc: 0.9961 - val_loss: 0.2023 - val_acc: 0.9815\n"
     ]
    },
    {
     "name": "stdout",
     "output_type": "stream",
     "text": [
      "Epoch 29/30\n",
      "54000/54000 [==============================] - 22s 407us/step - loss: 0.0229 - acc: 0.9963 - val_loss: 0.1585 - val_acc: 0.9833\n",
      "Epoch 30/30\n",
      "54000/54000 [==============================] - 22s 410us/step - loss: 0.0250 - acc: 0.9962 - val_loss: 0.1679 - val_acc: 0.9825\n"
     ]
    }
   ],
   "source": [
    "''' Set up the optimizer '''\n",
    "from keras.optimizers import SGD, Adam, RMSprop, Adagrad\n",
    "model_l2.compile(loss= 'categorical_crossentropy',\n",
    "                 optimizer='Adam',\n",
    "                 metrics=['accuracy'])\n",
    "\n",
    "model_adam.compile(loss= 'categorical_crossentropy',\n",
    "                   optimizer='Adam',\n",
    "                   metrics=['accuracy'])\n",
    "\n",
    "''' set the size of mini-batch and number of epochs'''\n",
    "batch_size = 16\n",
    "epochs = 30\n",
    "\n",
    "'''Fit models and use validation_split=0.1 '''\n",
    "history_l2 = model_l2.fit(x_train, y_train,\n",
    "                          batch_size=batch_size,\n",
    "                          epochs=epochs,\n",
    "                          verbose=1,\n",
    "                          shuffle=True,\n",
    "                          validation_split=0.1)\n",
    "\n",
    "history_adam = model_adam.fit(x_train, y_train,\n",
    "                              batch_size=batch_size,\n",
    "                              epochs=epochs,\n",
    "                              verbose=1,\n",
    "                              shuffle=True,\n",
    "                              validation_split=0.1)"
   ]
  },
  {
   "cell_type": "code",
   "execution_count": 8,
   "metadata": {},
   "outputs": [
    {
     "data": {
      "image/png": "[encoded data removed]",
      "text/plain": [
       "<matplotlib.figure.Figure at 0x1660f625a20>"
      ]
     },
     "metadata": {},
     "output_type": "display_data"
    },
    {
     "name": "stdout",
     "output_type": "stream",
     "text": [
      "Result saved into 06_regularizer.png\n"
     ]
    },
    {
     "data": {
      "image/png": "[encoded data removed]",
      "text/plain": [
       "<matplotlib.figure.Figure at 0x16620f89f28>"
      ]
     },
     "metadata": {},
     "output_type": "display_data"
    },
    {
     "name": "stdout",
     "output_type": "stream",
     "text": [
      "Result saved into 06_regularizer.png\n"
     ]
    }
   ],
   "source": [
    "'''Access the loss and accuracy in every epoch'''\n",
    "loss_l2 = history_l2.history.get('loss')\n",
    "acc_l2 = history_l2.history.get('acc')\n",
    "val_loss_l2 = history_l2.history.get('val_loss')\n",
    "val_acc_l2 = history_l2.history.get('val_acc')\n",
    "loss_adam = history_adam.history.get('loss')\n",
    "acc_adam = history_adam.history.get('acc')\n",
    "val_loss_adam = history_adam.history.get('val_loss')\n",
    "val_acc_adam = history_adam.history.get('val_acc')\n",
    "\n",
    "''' Visualize the loss and accuracy of both models'''\n",
    "import matplotlib.pyplot as plt\n",
    "plt.figure(0,figsize=(8,6))\n",
    "plt.subplot(121)\n",
    "plt.plot(range(len(loss_adam)), loss_adam,label='Training')\n",
    "plt.plot(range(len(val_loss_adam)), val_loss_adam,label='Validation')\n",
    "plt.ylim([0,2])\n",
    "plt.title('Loss - Original')\n",
    "plt.xlabel(\"epoch\")\n",
    "plt.legend(loc='upper left')\n",
    "plt.subplot(122)\n",
    "plt.plot(range(len(loss_l2)), loss_l2,label='Training')\n",
    "plt.plot(range(len(val_loss_l2)), val_loss_l2,label='Validation')\n",
    "plt.ylim([0,2])\n",
    "plt.title('Loss - With Regularizer')\n",
    "plt.xlabel(\"epoch\")\n",
    "plt.tight_layout()\n",
    "plt.savefig('06_regularizer_loss.png',dpi=300,format='png')\n",
    "plt.show()\n",
    "plt.close()\n",
    "print('Result saved into 06_regularizer.png')\n",
    "\n",
    "import matplotlib.pyplot as plt\n",
    "plt.figure(0,figsize=(8,6))\n",
    "plt.subplot(121)\n",
    "plt.plot(range(len(acc_adam)), acc_adam,label='Training')\n",
    "plt.plot(range(len(val_acc_adam)), val_acc_adam,label='Validation')\n",
    "plt.ylim([0.9,1.00])\n",
    "plt.title('Accuracy - Original')\n",
    "plt.xlabel(\"epoch\")\n",
    "plt.legend(loc='upper left')\n",
    "plt.subplot(122)\n",
    "plt.plot(range(len(acc_l2)), acc_l2,label='Training')\n",
    "plt.plot(range(len(val_acc_l2)), val_acc_l2,label='Validation')\n",
    "plt.ylim([0.9,1.00])\n",
    "plt.title('Accuracy - With Regularizer')\n",
    "plt.xlabel(\"epoch\")\n",
    "plt.tight_layout()\n",
    "plt.savefig('06_regularizer_acc.png',dpi=300,format='png')\n",
    "plt.show()\n",
    "plt.close()\n",
    "print('Result saved into 06_regularizer.png')"
   ]
  }
 ],
 "metadata": {
  "kernelspec": {
   "display_name": "Python 3",
   "language": "python",
   "name": "python3"
  },
  "language_info": {
   "codemirror_mode": {
    "name": "ipython",
    "version": 3
   },
   "file_extension": ".py",
   "mimetype": "text/x-python",
   "name": "python",
   "nbconvert_exporter": "python",
   "pygments_lexer": "ipython3",
   "version": "3.5.3"
  }
 },
 "nbformat": 4,
 "nbformat_minor": 2
}
