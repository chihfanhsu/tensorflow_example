{
 "cells": [
  {
   "cell_type": "code",
   "execution_count": 1,
   "metadata": {},
   "outputs": [],
   "source": [
    "# Modified from Jimmy Chang's codes"
   ]
  },
  {
   "cell_type": "code",
   "execution_count": 2,
   "metadata": {},
   "outputs": [
    {
     "name": "stderr",
     "output_type": "stream",
     "text": [
      "c:\\users\\silver\\appdata\\local\\programs\\python\\python35\\lib\\site-packages\\h5py\\__init__.py:36: FutureWarning: Conversion of the second argument of issubdtype from `float` to `np.floating` is deprecated. In future, it will be treated as `np.float64 == np.dtype(float).type`.\n",
      "  from ._conv import register_converters as _register_converters\n",
      "Using TensorFlow backend.\n"
     ]
    }
   ],
   "source": [
    "from __future__ import print_function\n",
    "import keras\n",
    "from keras.datasets import mnist\n",
    "from keras.models import Sequential\n",
    "from keras.layers.core import Dense, Activation\n",
    "\n",
    "batch_size = 128\n",
    "num_classes = 10\n",
    "epochs = 12\n",
    "\n",
    "# input image dimensions\n",
    "img_rows, img_cols = 28, 28\n",
    "\n",
    "# the data, shuffled and split between train and test sets\n",
    "(x_train, y_train), (x_test, y_test) = mnist.load_data()"
   ]
  },
  {
   "cell_type": "code",
   "execution_count": 3,
   "metadata": {},
   "outputs": [
    {
     "name": "stdout",
     "output_type": "stream",
     "text": [
      "training inputs (60000, 28, 28)\n",
      "training labels (60000,)\n",
      "testing inputs (10000, 28, 28)\n",
      "testing inputs (10000,)\n"
     ]
    }
   ],
   "source": [
    "print(\"training inputs\",x_train.shape)\n",
    "print(\"training labels\",y_train.shape)\n",
    "print(\"testing inputs\",x_test.shape)\n",
    "print(\"testing inputs\",y_test.shape)"
   ]
  },
  {
   "cell_type": "code",
   "execution_count": 4,
   "metadata": {},
   "outputs": [],
   "source": [
    "x_train = x_train.reshape(x_train.shape[0], img_rows*img_cols)\n",
    "x_test = x_test.reshape(x_test.shape[0], img_rows*img_cols)\n",
    "x_train = x_train.astype('float32')\n",
    "x_test = x_test.astype('float32')\n",
    "x_train /= 255\n",
    "x_test /= 255\n",
    "\n",
    "# convert class vectors to binary class matrices\n",
    "y_train = keras.utils.to_categorical(y_train, num_classes)\n",
    "y_test = keras.utils.to_categorical(y_test, num_classes)"
   ]
  },
  {
   "cell_type": "code",
   "execution_count": 5,
   "metadata": {},
   "outputs": [
    {
     "name": "stdout",
     "output_type": "stream",
     "text": [
      "training inputs (60000, 784)\n",
      "training labels (60000, 10)\n",
      "testing inputs (10000, 784)\n",
      "testing inputs (10000, 10)\n"
     ]
    }
   ],
   "source": [
    "print(\"training inputs\",x_train.shape)\n",
    "print(\"training labels\",y_train.shape)\n",
    "print(\"testing inputs\",x_test.shape)\n",
    "print(\"testing inputs\",y_test.shape)"
   ]
  },
  {
   "cell_type": "code",
   "execution_count": 6,
   "metadata": {},
   "outputs": [],
   "source": [
    "# print 'Building a model whose loss function is categorical_crossentropy'\n",
    "''' For categorical_crossentropy '''\n",
    "model_ce = Sequential()\n",
    "model_ce.add(Dense(512, input_dim=x_train.shape[1]))\n",
    "model_ce.add(Activation('sigmoid'))\n",
    "model_ce.add(Dense(512))\n",
    "model_ce.add(Activation('sigmoid'))\n",
    "model_ce.add(Dense(10))\n",
    "model_ce.add(Activation('softmax'))"
   ]
  },
  {
   "cell_type": "code",
   "execution_count": 7,
   "metadata": {},
   "outputs": [
    {
     "name": "stdout",
     "output_type": "stream",
     "text": [
      "Train on 54000 samples, validate on 6000 samples\n",
      "Epoch 1/30\n",
      "54000/54000 [==============================] - 19s 360us/step - loss: 1.8398 - acc: 0.4559 - val_loss: 1.0702 - val_acc: 0.7253\n",
      "Epoch 2/30\n",
      "54000/54000 [==============================] - 18s 335us/step - loss: 0.7747 - acc: 0.8060 - val_loss: 0.5110 - val_acc: 0.8768\n",
      "Epoch 3/30\n",
      "54000/54000 [==============================] - 18s 337us/step - loss: 0.5091 - acc: 0.8616 - val_loss: 0.3799 - val_acc: 0.9023\n",
      "Epoch 4/30\n",
      "54000/54000 [==============================] - 18s 335us/step - loss: 0.4257 - acc: 0.8807 - val_loss: 0.3316 - val_acc: 0.9097\n",
      "Epoch 5/30\n",
      "54000/54000 [==============================] - 18s 336us/step - loss: 0.3858 - acc: 0.8903 - val_loss: 0.3046 - val_acc: 0.9142\n",
      "Epoch 6/30\n",
      "54000/54000 [==============================] - 18s 337us/step - loss: 0.3617 - acc: 0.8964 - val_loss: 0.2881 - val_acc: 0.9177\n",
      "Epoch 7/30\n",
      "54000/54000 [==============================] - 19s 349us/step - loss: 0.3455 - acc: 0.8994 - val_loss: 0.2768 - val_acc: 0.9218\n",
      "Epoch 8/30\n",
      "54000/54000 [==============================] - 18s 334us/step - loss: 0.3333 - acc: 0.9033 - val_loss: 0.2685 - val_acc: 0.9220\n",
      "Epoch 9/30\n",
      "54000/54000 [==============================] - 18s 329us/step - loss: 0.3230 - acc: 0.9061 - val_loss: 0.2603 - val_acc: 0.9258\n",
      "Epoch 10/30\n",
      "54000/54000 [==============================] - 18s 332us/step - loss: 0.3146 - acc: 0.9088 - val_loss: 0.2518 - val_acc: 0.9260\n",
      "Epoch 11/30\n",
      "54000/54000 [==============================] - 18s 331us/step - loss: 0.3081 - acc: 0.9106 - val_loss: 0.2488 - val_acc: 0.9283\n",
      "Epoch 12/30\n",
      "54000/54000 [==============================] - 18s 331us/step - loss: 0.3018 - acc: 0.9131 - val_loss: 0.2507 - val_acc: 0.9258\n",
      "Epoch 13/30\n",
      "54000/54000 [==============================] - 18s 330us/step - loss: 0.2964 - acc: 0.9146 - val_loss: 0.2381 - val_acc: 0.9312\n",
      "Epoch 14/30\n",
      "54000/54000 [==============================] - 18s 333us/step - loss: 0.2911 - acc: 0.9155 - val_loss: 0.2383 - val_acc: 0.9305\n",
      "Epoch 15/30\n",
      "54000/54000 [==============================] - 18s 331us/step - loss: 0.2865 - acc: 0.9169 - val_loss: 0.2372 - val_acc: 0.9318\n",
      "Epoch 16/30\n",
      "54000/54000 [==============================] - 18s 334us/step - loss: 0.2816 - acc: 0.9181 - val_loss: 0.2294 - val_acc: 0.9358\n",
      "Epoch 17/30\n",
      "54000/54000 [==============================] - 18s 333us/step - loss: 0.2778 - acc: 0.9198 - val_loss: 0.2257 - val_acc: 0.9333\n",
      "Epoch 18/30\n",
      "54000/54000 [==============================] - 19s 345us/step - loss: 0.2732 - acc: 0.9206 - val_loss: 0.2216 - val_acc: 0.9358\n",
      "Epoch 19/30\n",
      "54000/54000 [==============================] - 18s 338us/step - loss: 0.2690 - acc: 0.9216 - val_loss: 0.2192 - val_acc: 0.9362\n",
      "Epoch 20/30\n",
      "54000/54000 [==============================] - 18s 342us/step - loss: 0.2644 - acc: 0.9237 - val_loss: 0.2224 - val_acc: 0.9352\n",
      "Epoch 21/30\n",
      "54000/54000 [==============================] - 18s 332us/step - loss: 0.2605 - acc: 0.9246 - val_loss: 0.2146 - val_acc: 0.9370\n",
      "Epoch 22/30\n",
      "54000/54000 [==============================] - 18s 330us/step - loss: 0.2562 - acc: 0.9266 - val_loss: 0.2088 - val_acc: 0.9393\n",
      "Epoch 23/30\n",
      "54000/54000 [==============================] - 17s 323us/step - loss: 0.2523 - acc: 0.9266 - val_loss: 0.2066 - val_acc: 0.9407\n",
      "Epoch 24/30\n",
      "54000/54000 [==============================] - 18s 326us/step - loss: 0.2477 - acc: 0.9285 - val_loss: 0.2036 - val_acc: 0.9420\n",
      "Epoch 25/30\n",
      "54000/54000 [==============================] - 18s 333us/step - loss: 0.2437 - acc: 0.9298 - val_loss: 0.1986 - val_acc: 0.9420\n",
      "Epoch 26/30\n",
      "54000/54000 [==============================] - 18s 330us/step - loss: 0.2393 - acc: 0.9313 - val_loss: 0.1974 - val_acc: 0.9438\n",
      "Epoch 27/30\n",
      "54000/54000 [==============================] - 18s 330us/step - loss: 0.2354 - acc: 0.9323 - val_loss: 0.1922 - val_acc: 0.9460\n",
      "Epoch 28/30\n",
      "54000/54000 [==============================] - 18s 327us/step - loss: 0.2308 - acc: 0.9332 - val_loss: 0.1954 - val_acc: 0.9443\n",
      "Epoch 29/30\n",
      "54000/54000 [==============================] - 18s 334us/step - loss: 0.2270 - acc: 0.9345 - val_loss: 0.1902 - val_acc: 0.9455\n",
      "Epoch 30/30\n",
      "54000/54000 [==============================] - 18s 340us/step - loss: 0.2229 - acc: 0.9357 - val_loss: 0.1848 - val_acc: 0.9475\n",
      "Result saved into 00_firstModel.png\n"
     ]
    }
   ],
   "source": [
    "''' Set up the optimizer '''\n",
    "from keras.optimizers import SGD, Adam, RMSprop, Adagrad\n",
    "sgd = SGD(lr=0.01,momentum=0.0,decay=0.0,nesterov=False)\n",
    "\n",
    "''' Compile model with specified loss and optimizer '''\n",
    "model_ce.compile(loss='categorical_crossentropy',\n",
    "                 optimizer=sgd,\n",
    "                 metrics=['accuracy'])\n",
    "\n",
    "''' set the size of mini-batch and number of epochs'''\n",
    "batch_size = 16\n",
    "epochs = 30\n",
    "\n",
    "'''Fit models and use validation_split=0.1 '''\n",
    "history_ce = model_ce.fit(x_train, y_train,\n",
    "                          batch_size=batch_size,\n",
    "                          epochs=epochs,\n",
    "                          verbose=1,\n",
    "                          shuffle=True,\n",
    "                          validation_split=0.1)"
   ]
  },
  {
   "cell_type": "code",
   "execution_count": 8,
   "metadata": {},
   "outputs": [
    {
     "data": {
      "image/png": "[encoded data removed]",
      "text/plain": [
       "<matplotlib.figure.Figure at 0x21da0e987f0>"
      ]
     },
     "metadata": {},
     "output_type": "display_data"
    },
    {
     "name": "stdout",
     "output_type": "stream",
     "text": [
      "Result saved into 00_firstModel.png\n"
     ]
    }
   ],
   "source": [
    "'''Access the loss and accuracy in every epoch'''\n",
    "loss_ce\t= history_ce.history.get('loss')\n",
    "acc_ce \t= history_ce.history.get('acc')\n",
    "\n",
    "''' Visualize the loss and accuracy of both models'''\n",
    "import matplotlib.pyplot as plt\n",
    "plt.figure(0)\n",
    "plt.subplot(121)\n",
    "plt.plot(range(len(loss_ce)), loss_ce,label='CE')\n",
    "plt.title('Loss')\n",
    "plt.legend(loc='upper left')\n",
    "plt.subplot(122)\n",
    "plt.plot(range(len(acc_ce)), acc_ce,label='CE')\n",
    "plt.title('Accuracy')\n",
    "plt.savefig('00_firstModel.png',dpi=300,format='png')\n",
    "plt.show()\n",
    "plt.close()\n",
    "print('Result saved into 00_firstModel.png')"
   ]
  }
 ],
 "metadata": {
  "kernelspec": {
   "display_name": "Python 3",
   "language": "python",
   "name": "python3"
  },
  "language_info": {
   "codemirror_mode": {
    "name": "ipython",
    "version": 3
   },
   "file_extension": ".py",
   "mimetype": "text/x-python",
   "name": "python",
   "nbconvert_exporter": "python",
   "pygments_lexer": "ipython3",
   "version": "3.5.3"
  }
 },
 "nbformat": 4,
 "nbformat_minor": 2
}
