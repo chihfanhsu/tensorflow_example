{
 "cells": [
  {
   "cell_type": "markdown",
   "metadata": {},
   "source": [
    "# Load libraries"
   ]
  },
  {
   "cell_type": "code",
   "execution_count": null,
   "metadata": {},
   "outputs": [],
   "source": [
    "# import [package name] as [name abbr.]\n",
    "# python 處理數字跟 tensor 運算的主要套件\n",
    "import numpy as np\n",
    "# google 的 NN coding 套件\n",
    "import tensorflow as tf\n",
    "\n",
    "# 有可能會出現警告，但是可以不用理他\n",
    "# c:\\users\\silver\\appdata\\local\\programs\\python\\python35\\lib\\site-packages\\h5py\\__init__.py:36:\n",
    "# FutureWarning: Conversion of the second argument of issubdtype from `float` to `np.floating`\n",
    "# is deprecated. In future, it will be treated as `np.float64 == np.dtype(float).type`.\n",
    "# from ._conv import register_converters as _register_converters\n",
    "\n",
    "import matplotlib.pyplot as plt"
   ]
  },
  {
   "cell_type": "markdown",
   "metadata": {},
   "source": [
    "# Load Dataset"
   ]
  },
  {
   "cell_type": "code",
   "execution_count": null,
   "metadata": {
    "scrolled": true
   },
   "outputs": [],
   "source": [
    "exec(open(\"00_readingInput.py\").read())\n",
    "feature_dim = X_train.shape[1]\n",
    "classes = 5"
   ]
  },
  {
   "cell_type": "code",
   "execution_count": null,
   "metadata": {},
   "outputs": [],
   "source": [
    "# Define Model Input (x) and Output (y_),  y_ = f(x)\n",
    "x = tf.placeholder(tf.float32, [None, X_train.shape[1]])\n",
    "y_ = tf.placeholder(tf.int32, [None])\n",
    "y_one = tf.one_hot(y_,classes)"
   ]
  },
  {
   "cell_type": "markdown",
   "metadata": {},
   "source": [
    "#  Define Your Model Here"
   ]
  },
  {
   "cell_type": "raw",
   "metadata": {},
   "source": [
    "Ex 03\n",
    "嘗試將 activation function 改成 ReLU\n",
    "Hint:\n",
    "tf.nn.relu(prev_layer)"
   ]
  },
  {
   "cell_type": "code",
   "execution_count": null,
   "metadata": {},
   "outputs": [],
   "source": [
    "relu_h1 = tf.layers.dense(x,128,activation=None)\n",
    "relu_h1_act = \n",
    "relu_h2 = tf.layers.dense(relu_h1_act,256,activation=None)\n",
    "relu_h2_act = \n",
    "relu_y = tf.layers.dense(relu_h2_act,classes,activation=None)\n",
    "\n",
    "relu_loss = tf.reduce_mean(tf.nn.softmax_cross_entropy_with_logits(labels=y_one, logits=relu_y))\n",
    "relu_train_step = tf.train.GradientDescentOptimizer(0.01).minimize(relu_loss)\n",
    "\n",
    "# Accuracy of the Model\n",
    "relu_y_pred = tf.argmax(tf.nn.softmax(relu_y), 1, output_type=tf.int32)\n",
    "relu_correct = tf.equal(relu_y_pred, y_)\n",
    "relu_accuracy = tf.reduce_mean(tf.cast(relu_correct, tf.float32))"
   ]
  },
  {
   "cell_type": "markdown",
   "metadata": {},
   "source": [
    "#  Reference model (Sigmoid)"
   ]
  },
  {
   "cell_type": "code",
   "execution_count": null,
   "metadata": {},
   "outputs": [],
   "source": [
    "sigmoid_h1 = tf.layers.dense(x,128,activation=None)\n",
    "sigmoid_h1_act = tf.nn.sigmoid(sigmoid_h1)\n",
    "sigmoid_h2 = tf.layers.dense(sigmoid_h1_act,256,activation=None)\n",
    "sigmoid_h2_act = tf.nn.sigmoid(sigmoid_h2)\n",
    "sigmoid_y = tf.layers.dense(sigmoid_h2_act,classes,activation=None)\n",
    "\n",
    "# Define the Model Loss (4)\n",
    "sigmoid_loss = tf.reduce_mean(tf.nn.softmax_cross_entropy_with_logits(labels=y_one, logits=sigmoid_y))\n",
    "sigmoid_train_step = tf.train.GradientDescentOptimizer(0.01).minimize(sigmoid_loss)\n",
    "\n",
    "# Accuracy of the Model\n",
    "sigmoid_y_pred = tf.argmax(tf.nn.softmax(sigmoid_y), 1, output_type=tf.int32)\n",
    "sigmoid_correct = tf.equal(sigmoid_y_pred, y_)\n",
    "sigmoid_accuracy = tf.reduce_mean(tf.cast(sigmoid_correct, tf.float32))"
   ]
  },
  {
   "cell_type": "code",
   "execution_count": null,
   "metadata": {},
   "outputs": [],
   "source": [
    "# initialize the models\n",
    "sess = tf.InteractiveSession()\n",
    "tf.global_variables_initializer().run()"
   ]
  },
  {
   "cell_type": "markdown",
   "metadata": {},
   "source": [
    "# Training & Evaluation"
   ]
  },
  {
   "cell_type": "code",
   "execution_count": null,
   "metadata": {},
   "outputs": [],
   "source": [
    "epoch = 30\n",
    "batch_size = 16\n",
    "get_batches = gen_batches(X_train, Y_train, batch_size)\n",
    "batches_in_a_epoch = int(X_train.shape[0]/batch_size)"
   ]
  },
  {
   "cell_type": "code",
   "execution_count": null,
   "metadata": {
    "scrolled": false
   },
   "outputs": [],
   "source": [
    "sigmoid_hist_train_acc = []\n",
    "sigmoid_hist_valid_acc = []\n",
    "relu_hist_train_acc = []\n",
    "relu_hist_valid_acc = []\n",
    "sigmoid_hist_train_loss = []\n",
    "sigmoid_hist_valid_loss = []\n",
    "relu_hist_train_loss = []\n",
    "relu_hist_valid_loss = []\n",
    "\n",
    "for step in range(epoch*batches_in_a_epoch):\n",
    "    batch_xs, batch_ys = next(get_batches)\n",
    "    sess.run(sigmoid_train_step, feed_dict={x: batch_xs, y_: batch_ys})\n",
    "    sess.run(relu_train_step, feed_dict={x: batch_xs, y_: batch_ys})\n",
    "    if (step % batches_in_a_epoch == 0):\n",
    "        # trainin and validation evaluation\n",
    "        # sigmoid\n",
    "        train_loss, train_acc = sess.run([sigmoid_loss,sigmoid_accuracy], feed_dict={x: X_train, y_: Y_train})\n",
    "        valid_loss, valid_acc = sess.run([sigmoid_loss,sigmoid_accuracy], feed_dict={x: X_test,  y_: Y_test})\n",
    "        sigmoid_hist_train_acc.append(train_acc)\n",
    "        sigmoid_hist_valid_acc.append(valid_acc)\n",
    "        sigmoid_hist_train_loss.append(train_loss)\n",
    "        sigmoid_hist_valid_loss.append(valid_loss)\n",
    "        #print(\"[Sigmoid]  Accuracy: [T] %.4f / [V] %.4f\" % (train_acc,valid_acc))\n",
    "        # ReLU\n",
    "        train_loss, train_acc = sess.run([relu_loss,relu_accuracy], feed_dict={x: X_train, y_: Y_train})\n",
    "        valid_loss, valid_acc = sess.run([relu_loss,relu_accuracy], feed_dict={x: X_test,  y_: Y_test})\n",
    "        relu_hist_train_acc.append(train_acc)\n",
    "        relu_hist_valid_acc.append(valid_acc)\n",
    "        relu_hist_train_loss.append(train_loss)\n",
    "        relu_hist_valid_loss.append(valid_loss)\n",
    "        #print(\"[ReLU] Accuracy: [T] %.4f / [V] %.4f\" % (train_acc,valid_acc))\n",
    "sess.close()"
   ]
  },
  {
   "cell_type": "code",
   "execution_count": null,
   "metadata": {},
   "outputs": [],
   "source": [
    "plt.figure(0,figsize=(8,6))\n",
    "plt.subplot(121)\n",
    "x = [x for x in range(len(sigmoid_hist_train_loss))]\n",
    "sigmoid_line, = plt.plot(x, sigmoid_hist_train_loss, label='Sigmoid')\n",
    "relu_line, = plt.plot(x, relu_hist_train_loss, label='ReLU')\n",
    "plt.xlabel('#epoch')\n",
    "plt.ylabel('Loss')\n",
    "plt.ylim([0,2])\n",
    "plt.legend(handles=[relu_line,sigmoid_line], loc=4)\n",
    "plt.subplot(122)\n",
    "x = [x for x in range(len(sigmoid_hist_train_acc))]\n",
    "sigmoid_line, = plt.plot(x, sigmoid_hist_train_acc, label='Sigmoid')\n",
    "relu_line, = plt.plot(x, relu_hist_train_acc, label='ReLU')\n",
    "plt.xlabel('#epoch')\n",
    "plt.ylabel('Accuracy')\n",
    "plt.legend(handles=[relu_line,sigmoid_line], loc=4)\n",
    "plt.tight_layout()\n",
    "plt.savefig('./training_curve/ex03_ActivtionFunction.png',dpi=300,format='png')\n",
    "plt.show()\n",
    "plt.close()"
   ]
  }
 ],
 "metadata": {
  "kernelspec": {
   "display_name": "Python 3",
   "language": "python",
   "name": "python3"
  },
  "language_info": {
   "codemirror_mode": {
    "name": "ipython",
    "version": 3
   },
   "file_extension": ".py",
   "mimetype": "text/x-python",
   "name": "python",
   "nbconvert_exporter": "python",
   "pygments_lexer": "ipython3",
   "version": "3.5.3"
  }
 },
 "nbformat": 4,
 "nbformat_minor": 2
}
