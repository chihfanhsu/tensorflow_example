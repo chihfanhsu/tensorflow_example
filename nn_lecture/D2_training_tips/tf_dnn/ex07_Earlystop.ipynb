{
 "cells": [
  {
   "cell_type": "markdown",
   "metadata": {},
   "source": [
    "# Load libraries"
   ]
  },
  {
   "cell_type": "code",
   "execution_count": null,
   "metadata": {},
   "outputs": [],
   "source": [
    "# import [package name] as [name abbr.]\n",
    "# python 處理數字跟 tensor 運算的主要套件\n",
    "import numpy as np\n",
    "# google 的 NN coding 套件\n",
    "import tensorflow as tf\n",
    "\n",
    "# 有可能會出現警告，但是可以不用理他\n",
    "# c:\\users\\silver\\appdata\\local\\programs\\python\\python35\\lib\\site-packages\\h5py\\__init__.py:36:\n",
    "# FutureWarning: Conversion of the second argument of issubdtype from `float` to `np.floating`\n",
    "# is deprecated. In future, it will be treated as `np.float64 == np.dtype(float).type`.\n",
    "# from ._conv import register_converters as _register_converters\n",
    "\n",
    "import matplotlib.pyplot as plt"
   ]
  },
  {
   "cell_type": "markdown",
   "metadata": {},
   "source": [
    "# Load Dataset"
   ]
  },
  {
   "cell_type": "code",
   "execution_count": null,
   "metadata": {
    "scrolled": true
   },
   "outputs": [],
   "source": [
    "exec(open(\"00_readingInput.py\").read())\n",
    "feature_dim = X_train.shape[1]\n",
    "classes = 5"
   ]
  },
  {
   "cell_type": "code",
   "execution_count": null,
   "metadata": {},
   "outputs": [],
   "source": [
    "# Define Model Input (x) and Output (y_),  y_ = f(x)\n",
    "x = tf.placeholder(tf.float32, [None, X_train.shape[1]])\n",
    "y_ = tf.placeholder(tf.int32, [None])\n",
    "y_one = tf.one_hot(y_,classes)"
   ]
  },
  {
   "cell_type": "code",
   "execution_count": null,
   "metadata": {},
   "outputs": [],
   "source": [
    "reg_h1 = tf.layers.dense(x,128,activation=None,\n",
    "                         kernel_regularizer=tf.contrib.layers.l2_regularizer(scale=0.01))\n",
    "reg_h1_act = tf.nn.relu(reg_h1)\n",
    "reg_h2 = tf.layers.dense(reg_h1_act,256,activation=None,\n",
    "                         kernel_regularizer=tf.contrib.layers.l2_regularizer(scale=0.01))\n",
    "reg_h2_act = tf.nn.relu(reg_h2)\n",
    "reg_y = tf.layers.dense(reg_h2_act,classes,activation=None)\n",
    "\n",
    "reg_loss = tf.reduce_mean(tf.nn.softmax_cross_entropy_with_logits(labels=y_one, logits=reg_y))\n",
    "l2_loss = tf.losses.get_regularization_loss()\n",
    "tot_loss = reg_loss+l2_loss\n",
    "\n",
    "reg_train_step = tf.train.AdamOptimizer(0.001).minimize(tot_loss)\n",
    "\n",
    "# Accuracy of the Model\n",
    "reg_y_pred = tf.argmax(tf.nn.softmax(reg_y), 1, output_type=tf.int32)\n",
    "reg_correct = tf.equal(reg_y_pred, y_)\n",
    "reg_accuracy = tf.reduce_mean(tf.cast(reg_correct, tf.float32))"
   ]
  },
  {
   "cell_type": "code",
   "execution_count": null,
   "metadata": {},
   "outputs": [],
   "source": [
    "# initialize the models\n",
    "sess = tf.InteractiveSession(\n",
    "    config=tf.ConfigProto(\n",
    "    device_count={'CPU' : 1, 'GPU' : 0},\n",
    "    allow_soft_placement=True,\n",
    "    log_device_placement=False\n",
    "    ))\n",
    "tf.global_variables_initializer().run()"
   ]
  },
  {
   "cell_type": "markdown",
   "metadata": {},
   "source": [
    "# Training & Evaluation"
   ]
  },
  {
   "cell_type": "raw",
   "metadata": {},
   "source": [
    "Ex 07\n",
    "監視 validation loss，讓其能容忍不思長進三次\n",
    "Hint:\n",
    "if(valid_loss < min_loss):\n",
    "    min_loss = 'monitor'\n",
    "    stop_tol = 0\n",
    "else:\n",
    "    if(stop_tol == #tolerance):\n",
    "        break\n",
    "    else:\n",
    "        stop_tol = stop_tol + 1"
   ]
  },
  {
   "cell_type": "code",
   "execution_count": null,
   "metadata": {},
   "outputs": [],
   "source": [
    "epoch = 50\n",
    "batch_size = 16\n",
    "get_batches = gen_batches(X_train, Y_train, batch_size)\n",
    "batches_in_a_epoch = int(X_train.shape[0]/batch_size)"
   ]
  },
  {
   "cell_type": "code",
   "execution_count": null,
   "metadata": {
    "scrolled": false
   },
   "outputs": [],
   "source": [
    "reg_hist_train_acc = []\n",
    "reg_hist_valid_acc = []\n",
    "reg_hist_train_loss = []\n",
    "reg_hist_valid_loss = []\n",
    "\n",
    "min_loss = 999999999\n",
    "stop_tol = 0\n",
    "for step in range(epoch*batches_in_a_epoch):\n",
    "    batch_xs, batch_ys = next(get_batches)\n",
    "    sess.run(reg_train_step, feed_dict={x: batch_xs, y_: batch_ys})\n",
    "    if (step % batches_in_a_epoch == 0):\n",
    "        # trainin and validation evaluation\n",
    "        train_loss, train_acc = sess.run([reg_loss,reg_accuracy], feed_dict={x: X_train, y_: Y_train})\n",
    "        valid_loss, valid_acc = sess.run([reg_loss,reg_accuracy], feed_dict={x: X_test,  y_: Y_test})\n",
    "        reg_hist_train_acc.append(train_acc)\n",
    "        reg_hist_valid_acc.append(valid_acc)\n",
    "        reg_hist_train_loss.append(train_loss)\n",
    "        reg_hist_valid_loss.append(valid_loss)\n",
    "        #print(\"Accuracy: [T] %.4f / [V] %.4f\" % (train_acc,valid_acc))\n",
    "        if(valid_loss < min_loss):\n",
    "            min_loss = \n",
    "            stop_tol = 0\n",
    "        else:\n",
    "            if(stop_tol == ):\n",
    "                break\n",
    "            else:\n",
    "                stop_tol = stop_tol + 1\n",
    "\n",
    "sess.close()"
   ]
  },
  {
   "cell_type": "code",
   "execution_count": null,
   "metadata": {},
   "outputs": [],
   "source": [
    "plt.figure(0,figsize=(8,6))\n",
    "plt.subplot(121)\n",
    "x = [x for x in range(len(reg_hist_train_loss))]\n",
    "line_train, = plt.plot(x, reg_hist_train_loss, label='Training')\n",
    "line_valid, = plt.plot(x, reg_hist_valid_loss, label='Validation')\n",
    "plt.xlabel('#epoch')\n",
    "plt.ylabel('Loss')\n",
    "plt.title('Loss')\n",
    "plt.ylim([0,2])\n",
    "plt.legend(handles=[line_train,line_valid], loc=4)\n",
    "plt.subplot(122)\n",
    "x = [x for x in range(len(reg_hist_train_acc))]\n",
    "line_train, = plt.plot(x, reg_hist_train_acc, label='Training')\n",
    "line_valid, = plt.plot(x, reg_hist_valid_acc, label='Validation')\n",
    "plt.xlabel('#epoch')\n",
    "plt.ylabel('Accuracy')\n",
    "plt.title('Accuracy')\n",
    "plt.ylim([0,1])\n",
    "plt.legend(handles=[line_train,line_valid], loc=4)\n",
    "plt.tight_layout()\n",
    "plt.savefig('./training_curve/ex07_Earlystop.png',dpi=300,format='png')\n",
    "plt.show()\n",
    "plt.close()"
   ]
  }
 ],
 "metadata": {
  "kernelspec": {
   "display_name": "Python 3",
   "language": "python",
   "name": "python3"
  },
  "language_info": {
   "codemirror_mode": {
    "name": "ipython",
    "version": 3
   },
   "file_extension": ".py",
   "mimetype": "text/x-python",
   "name": "python",
   "nbconvert_exporter": "python",
   "pygments_lexer": "ipython3",
   "version": "3.5.3"
  }
 },
 "nbformat": 4,
 "nbformat_minor": 2
}
