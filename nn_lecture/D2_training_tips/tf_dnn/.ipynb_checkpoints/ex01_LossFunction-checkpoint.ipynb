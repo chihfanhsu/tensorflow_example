{
 "cells": [
  {
   "cell_type": "markdown",
   "metadata": {},
   "source": [
    "# Load libraries"
   ]
  },
  {
   "cell_type": "code",
   "execution_count": null,
   "metadata": {},
   "outputs": [],
   "source": [
    "# import [package name] as [name abbr.]\n",
    "# python 處理數字跟 tensor 運算的主要套件\n",
    "import numpy as np\n",
    "# google 的 NN coding 套件\n",
    "import tensorflow as tf\n",
    "\n",
    "# 有可能會出現警告，但是可以不用理他\n",
    "# c:\\users\\silver\\appdata\\local\\programs\\python\\python35\\lib\\site-packages\\h5py\\__init__.py:36:\n",
    "# FutureWarning: Conversion of the second argument of issubdtype from `float` to `np.floating`\n",
    "# is deprecated. In future, it will be treated as `np.float64 == np.dtype(float).type`.\n",
    "# from ._conv import register_converters as _register_converters\n",
    "\n",
    "import matplotlib.pyplot as plt"
   ]
  },
  {
   "cell_type": "markdown",
   "metadata": {},
   "source": [
    "# Load Dataset"
   ]
  },
  {
   "cell_type": "code",
   "execution_count": null,
   "metadata": {
    "scrolled": true
   },
   "outputs": [],
   "source": [
    "exec(open(\"00_readingInput.py\").read())\n",
    "feature_dim = X_train.shape[1]\n",
    "classes = 5"
   ]
  },
  {
   "cell_type": "code",
   "execution_count": null,
   "metadata": {},
   "outputs": [],
   "source": [
    "# Define Model Input (x) and Output (y_),  y_ = f(x)\n",
    "x = tf.placeholder(tf.float32, [None, X_train.shape[1]])\n",
    "y_ = tf.placeholder(tf.int32, [None])\n",
    "y_one = tf.one_hot(y_,classes)"
   ]
  },
  {
   "cell_type": "markdown",
   "metadata": {},
   "source": [
    "#  Define Your Model Here"
   ]
  },
  {
   "cell_type": "raw",
   "metadata": {},
   "source": [
    "Ex 01\n",
    "建立一個 Fully Connected Neural Network (input_dim = 200, output_dim = 5)\n",
    "\n",
    "1st layer = 128 noeds with 'sigmoid' activation function\n",
    "2nd layer = 256 noeds with 'sigmoid' activation function\n",
    "3rd layer (output) = 5 neurons using 'softmax' activation function\n",
    "\n",
    "loss function 選擇 corss entropy\n",
    "Hint: tf.nn.softmax_cross_entropy_with_logits (labels, logits)"
   ]
  },
  {
   "cell_type": "code",
   "execution_count": null,
   "metadata": {},
   "outputs": [],
   "source": [
    "#(Do!) define the model here\n",
    "\n"
   ]
  },
  {
   "cell_type": "code",
   "execution_count": null,
   "metadata": {
    "scrolled": false
   },
   "outputs": [],
   "source": [
    "# Define the Model Loss (4)\n",
    "ce_loss = tf.reduce_mean( )\n",
    "ce_train_step = tf.train.GradientDescentOptimizer(0.01).minimize(ce_loss)\n",
    "\n",
    "# Accuracy of the Model\n",
    "ce_y_pred = tf.argmax(tf.nn.softmax(ce_y), 1, output_type=tf.int32)\n",
    "ce_correct = tf.equal(ce_y_pred, y_)\n",
    "ce_accuracy = tf.reduce_mean(tf.cast(ce_correct, tf.float32))"
   ]
  },
  {
   "cell_type": "markdown",
   "metadata": {},
   "source": [
    "#  Reference model (mse loss)"
   ]
  },
  {
   "cell_type": "code",
   "execution_count": null,
   "metadata": {},
   "outputs": [],
   "source": [
    "mse_h1 = tf.layers.dense(x,128,activation=None)\n",
    "mse_h1_act = tf.nn.sigmoid(mse_h1)\n",
    "mse_h2 = tf.layers.dense(mse_h1_act,256,activation=None)\n",
    "mse_h2_act = tf.nn.sigmoid(mse_h2)\n",
    "mse_y = tf.layers.dense(mse_h2_act,classes,activation=None)\n",
    "mse_y_softmax = tf.nn.softmax(mse_y)"
   ]
  },
  {
   "cell_type": "code",
   "execution_count": null,
   "metadata": {},
   "outputs": [],
   "source": [
    "mse_loss = tf.reduce_mean(tf.losses.mean_squared_error(labels=y_one, predictions=mse_y_softmax))\n",
    "mse_train_step = tf.train.GradientDescentOptimizer(0.01).minimize(mse_loss)\n",
    "\n",
    "# Accuracy of the Model\n",
    "mse_y_pred = tf.argmax(tf.nn.softmax(mse_y), 1, output_type=tf.int32)\n",
    "mse_correct = tf.equal(mse_y_pred, y_)\n",
    "mse_accuracy = tf.reduce_mean(tf.cast(mse_correct, tf.float32))"
   ]
  },
  {
   "cell_type": "code",
   "execution_count": null,
   "metadata": {},
   "outputs": [],
   "source": [
    "# initialize the models\n",
    "sess = tf.InteractiveSession()\n",
    "tf.global_variables_initializer().run()"
   ]
  },
  {
   "cell_type": "markdown",
   "metadata": {},
   "source": [
    "# Training & Evaluation"
   ]
  },
  {
   "cell_type": "code",
   "execution_count": null,
   "metadata": {},
   "outputs": [],
   "source": [
    "epoch = 30\n",
    "batch_size = 16\n",
    "get_batches = gen_batches(X_train, Y_train, batch_size)\n",
    "batches_in_a_epoch = int(X_train.shape[0]/batch_size)"
   ]
  },
  {
   "cell_type": "code",
   "execution_count": null,
   "metadata": {
    "scrolled": false
   },
   "outputs": [],
   "source": [
    "# Train Model\n",
    "ce_hist_train_acc = []\n",
    "ce_hist_valid_acc = []\n",
    "mse_hist_train_acc = []\n",
    "mse_hist_valid_acc = []\n",
    "ce_hist_train_loss = []\n",
    "ce_hist_valid_loss = []\n",
    "mse_hist_train_loss = []\n",
    "mse_hist_valid_loss = []\n",
    "\n",
    "for step in range(epoch*batches_in_a_epoch):\n",
    "    batch_xs, batch_ys = next(get_batches)\n",
    "    sess.run(ce_train_step, feed_dict={x: batch_xs, y_: batch_ys})\n",
    "    sess.run(mse_train_step, feed_dict={x: batch_xs, y_: batch_ys})\n",
    "    if (step % batches_in_a_epoch == 0):\n",
    "        # trainin and validation evaluation\n",
    "        # cross entropy\n",
    "        train_loss, train_acc = sess.run([ce_loss,ce_accuracy], feed_dict={x: X_train, y_: Y_train})\n",
    "        valid_loss, valid_acc = sess.run([ce_loss,ce_accuracy], feed_dict={x: X_test,  y_: Y_test})\n",
    "        ce_hist_train_acc.append(train_acc)\n",
    "        ce_hist_valid_acc.append(valid_acc)\n",
    "        ce_hist_train_loss.append(train_loss)\n",
    "        ce_hist_valid_loss.append(valid_loss)\n",
    "        #print(\"[CE]  Accuracy: [T] %.4f / [V] %.4f\" % (train_acc,valid_acc))\n",
    "        # mse\n",
    "        train_loss, train_acc = sess.run([mse_loss,mse_accuracy], feed_dict={x: X_train, y_: Y_train})\n",
    "        valid_loss, valid_acc = sess.run([mse_loss,mse_accuracy], feed_dict={x: X_test,  y_: Y_test})\n",
    "        mse_hist_train_acc.append(train_acc)\n",
    "        mse_hist_valid_acc.append(valid_acc)\n",
    "        mse_hist_train_loss.append(train_loss)\n",
    "        mse_hist_valid_loss.append(valid_loss)\n",
    "        #print(\"[MSE] Accuracy: [T] %.4f / [V] %.4f\" % (train_acc,valid_acc))\n",
    "sess.close()"
   ]
  },
  {
   "cell_type": "code",
   "execution_count": null,
   "metadata": {},
   "outputs": [],
   "source": [
    "plt.figure(0,figsize=(9,6))\n",
    "plt.subplot(121)\n",
    "x = [x for x in range(len(ce_hist_train_loss))]\n",
    "ce_line, = plt.plot(x, ce_hist_train_loss, label='CE')\n",
    "mse_line, = plt.plot(x, mse_hist_train_loss, label='MSE')\n",
    "plt.xlabel('#epoch')\n",
    "plt.ylabel('Loss')\n",
    "plt.ylim([0,2])\n",
    "plt.legend(handles=[ce_line,mse_line], loc=4)\n",
    "plt.subplot(122)\n",
    "x = [x for x in range(len(ce_hist_train_acc))]\n",
    "ce_line, = plt.plot(x, ce_hist_train_acc, label='CE')\n",
    "mse_line, = plt.plot(x, mse_hist_train_acc, label='MSE')\n",
    "plt.xlabel('#epoch')\n",
    "plt.ylabel('Accuracy')\n",
    "plt.legend(handles=[ce_line,mse_line], loc=4)\n",
    "plt.savefig('./training_curve/ex01_LossFunction.png')\n",
    "plt.show()\n",
    "plt.close()"
   ]
  }
 ],
 "metadata": {
  "kernelspec": {
   "display_name": "Python 3",
   "language": "python",
   "name": "python3"
  },
  "language_info": {
   "codemirror_mode": {
    "name": "ipython",
    "version": 3
   },
   "file_extension": ".py",
   "mimetype": "text/x-python",
   "name": "python",
   "nbconvert_exporter": "python",
   "pygments_lexer": "ipython3",
   "version": "3.5.3"
  }
 },
 "nbformat": 4,
 "nbformat_minor": 2
}
