{
 "cells": [
  {
   "cell_type": "markdown",
   "metadata": {},
   "source": [
    "# Load libraries"
   ]
  },
  {
   "cell_type": "code",
   "execution_count": 1,
   "metadata": {},
   "outputs": [
    {
     "name": "stderr",
     "output_type": "stream",
     "text": [
      "c:\\users\\silver\\appdata\\local\\programs\\python\\python35\\lib\\site-packages\\h5py\\__init__.py:36: FutureWarning: Conversion of the second argument of issubdtype from `float` to `np.floating` is deprecated. In future, it will be treated as `np.float64 == np.dtype(float).type`.\n",
      "  from ._conv import register_converters as _register_converters\n"
     ]
    }
   ],
   "source": [
    "# import [package name] as [name abbr.]\n",
    "# python 處理數字跟 tensor 運算的主要套件\n",
    "import numpy as np\n",
    "# google 的 NN coding 套件\n",
    "import tensorflow as tf\n",
    "\n",
    "# 有可能會出現警告，但是可以不用理他\n",
    "# c:\\users\\silver\\appdata\\local\\programs\\python\\python35\\lib\\site-packages\\h5py\\__init__.py:36:\n",
    "# FutureWarning: Conversion of the second argument of issubdtype from `float` to `np.floating`\n",
    "# is deprecated. In future, it will be treated as `np.float64 == np.dtype(float).type`.\n",
    "# from ._conv import register_converters as _register_converters"
   ]
  },
  {
   "cell_type": "markdown",
   "metadata": {},
   "source": [
    "# Load MNIST"
   ]
  },
  {
   "cell_type": "code",
   "execution_count": 2,
   "metadata": {
    "scrolled": false
   },
   "outputs": [
    {
     "name": "stdout",
     "output_type": "stream",
     "text": [
      "Extracting MNIST-data\\train-images-idx3-ubyte.gz\n",
      "Extracting MNIST-data\\train-labels-idx1-ubyte.gz\n",
      "Extracting MNIST-data\\t10k-images-idx3-ubyte.gz\n",
      "Extracting MNIST-data\\t10k-labels-idx1-ubyte.gz\n",
      "(55000, 784)\n",
      "(55000,)\n",
      "(10000, 784)\n",
      "(10000,)\n"
     ]
    }
   ],
   "source": [
    "mnist = tf.contrib.learn.datasets.load_dataset('mnist')\n",
    "\n",
    "train_data = mnist.train.images # Returns np.array\n",
    "print(train_data.shape)\n",
    "# print(train_data[0,:])\n",
    "train_labels = np.asarray(mnist.train.labels, dtype=np.int32)\n",
    "print(train_labels.shape)\n",
    "# print(train_labels[0])\n",
    "\n",
    "test_data = mnist.test.images # Returns np.array\n",
    "print(test_data.shape)\n",
    "# print(test_data[0,:])\n",
    "test_labels = np.asarray(mnist.test.labels, dtype=np.int32)\n",
    "print(test_labels.shape)\n",
    "# print(test_labels[0])"
   ]
  },
  {
   "cell_type": "markdown",
   "metadata": {},
   "source": [
    "#  Define Model the Structure (Basic)"
   ]
  },
  {
   "cell_type": "code",
   "execution_count": 3,
   "metadata": {},
   "outputs": [],
   "source": [
    "# # Define Model Input (x) and Output (y_),  y_ = f(x)\n",
    "# x = tf.placeholder(tf.float32, [None, 784])\n",
    "# y_ = tf.placeholder(tf.int32, [None])\n",
    "# y_one = tf.one_hot(y_,10)\n",
    "\n",
    "# # Define Model parameters\n",
    "# w1 = tf.get_variable('w1',shape=[784, 512], initializer=tf.glorot_uniform_initializer())\n",
    "# b1 = tf.get_variable('b1',shape=[512], initializer=tf.zeros_initializer)\n",
    "\n",
    "\n",
    "# w2 = tf.get_variable('w2',shape=[512, 10], initializer=tf.glorot_uniform_initializer())\n",
    "# b2 = tf.get_variable('b2',shape=[10], initializer=tf.zeros_initializer)\n",
    "\n",
    "# h1 = tf.matmul(x, w1) + b1\n",
    "# h1_relu = tf.nn.relu(h1)\n",
    "# y = tf.matmul(h1_relu, w2) + b2"
   ]
  },
  {
   "cell_type": "markdown",
   "metadata": {},
   "source": [
    "#  Define Model Structure (tf.leyers)"
   ]
  },
  {
   "cell_type": "code",
   "execution_count": 4,
   "metadata": {},
   "outputs": [],
   "source": [
    "# Define Model Input (x) and Output (y_),  y_ = f(x)\n",
    "x = tf.placeholder(tf.float32, [None, 784])\n",
    "y_ = tf.placeholder(tf.int32, [None])\n",
    "y_one = tf.one_hot(y_,10)\n",
    "h1 = tf.layers.dense(x,512,activation=None)\n",
    "h1_relu = tf.nn.relu(h1)\n",
    "y = tf.layers.dense(h1_relu,10,activation=None)"
   ]
  },
  {
   "cell_type": "code",
   "execution_count": 5,
   "metadata": {},
   "outputs": [],
   "source": [
    "# Define the Model Loss (4)\n",
    "cross_entropy = tf.reduce_mean(tf.nn.softmax_cross_entropy_with_logits(labels=y_one, logits=y))\n",
    "\n",
    "# Define the Optimizer (5)\n",
    "train_step = tf.train.GradientDescentOptimizer(0.5).minimize(cross_entropy)\n",
    "\n",
    "y_pred = tf.argmax(tf.nn.softmax(y), 1, output_type=tf.int32)\n",
    "\n",
    "# Accuracy of the Model\n",
    "correct_prediction = tf.equal(y_pred, y_)\n",
    "accuracy = tf.reduce_mean(tf.cast(correct_prediction, tf.float32))\n",
    "\n",
    "# initialize the model\n",
    "sess = tf.InteractiveSession()\n",
    "tf.global_variables_initializer().run()"
   ]
  },
  {
   "cell_type": "markdown",
   "metadata": {},
   "source": [
    "# Training & Evaluation"
   ]
  },
  {
   "cell_type": "code",
   "execution_count": 6,
   "metadata": {},
   "outputs": [
    {
     "name": "stdout",
     "output_type": "stream",
     "text": [
      "Accuracy: [T] 0.4029 / [V] 0.4008\n",
      "Accuracy: [T] 0.9134 / [V] 0.9171\n",
      "Accuracy: [T] 0.9358 / [V] 0.9375\n",
      "Accuracy: [T] 0.9487 / [V] 0.9471\n",
      "Accuracy: [T] 0.9607 / [V] 0.9594\n",
      "Accuracy: [T] 0.9635 / [V] 0.9597\n",
      "Accuracy: [T] 0.9665 / [V] 0.9622\n",
      "Accuracy: [T] 0.9698 / [V] 0.9648\n",
      "Accuracy: [T] 0.9767 / [V] 0.9702\n",
      "Accuracy: [T] 0.9767 / [V] 0.9712\n",
      "[7 2 1 ... 4 5 6]\n"
     ]
    }
   ],
   "source": [
    "# Train Model for 1000 steps\n",
    "hist_train_acc = []\n",
    "hist_valid_acc = []\n",
    "for step in range(1000):\n",
    "    batch_xs, batch_ys = mnist.train.next_batch(128)\n",
    "    sess.run(train_step, feed_dict={x: batch_xs, y_: batch_ys})\n",
    "    if (step % 100 == 0):\n",
    "        acc_train = sess.run(accuracy, feed_dict={x: train_data, y_: train_labels})\n",
    "        acc_valid = sess.run(accuracy, feed_dict={x: test_data, y_: test_labels})\n",
    "        hist_train_acc.append(acc_train)\n",
    "        hist_valid_acc.append(acc_valid)\n",
    "        print(\"Accuracy: [T] %.4f / [V] %.4f\" % (acc_train,acc_valid))\n",
    "\n",
    "print(sess.run(y_pred, feed_dict={x: test_data,y_: test_labels}))"
   ]
  },
  {
   "cell_type": "code",
   "execution_count": 7,
   "metadata": {},
   "outputs": [
    {
     "data": {
      "image/png": "[encoded data removed]",
      "text/plain": [
       "<matplotlib.figure.Figure at 0x1d8eb50dba8>"
      ]
     },
     "metadata": {},
     "output_type": "display_data"
    }
   ],
   "source": [
    "import matplotlib.pyplot as plt\n",
    "x = [x*100 for x in range(len(hist_train_acc))]\n",
    "line_train, = plt.plot(x, hist_train_acc, label='Training')\n",
    "line_test, = plt.plot(x, hist_valid_acc, label='Test')\n",
    "plt.xlabel('# of Step')\n",
    "plt.ylabel('Accuracy')\n",
    "plt.legend(handles=[line_train,line_test], loc=4)\n",
    "plt.show()"
   ]
  }
 ],
 "metadata": {
  "kernelspec": {
   "display_name": "Python 3",
   "language": "python",
   "name": "python3"
  },
  "language_info": {
   "codemirror_mode": {
    "name": "ipython",
    "version": 3
   },
   "file_extension": ".py",
   "mimetype": "text/x-python",
   "name": "python",
   "nbconvert_exporter": "python",
   "pygments_lexer": "ipython3",
   "version": "3.5.3"
  }
 },
 "nbformat": 4,
 "nbformat_minor": 2
}
