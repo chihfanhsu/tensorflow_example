{
 "cells": [
  {
   "cell_type": "markdown",
   "metadata": {},
   "source": [
    "# Load libraries"
   ]
  },
  {
   "cell_type": "code",
   "execution_count": 1,
   "metadata": {},
   "outputs": [
    {
     "name": "stderr",
     "output_type": "stream",
     "text": [
      "c:\\users\\silver\\appdata\\local\\programs\\python\\python35\\lib\\site-packages\\h5py\\__init__.py:36: FutureWarning: Conversion of the second argument of issubdtype from `float` to `np.floating` is deprecated. In future, it will be treated as `np.float64 == np.dtype(float).type`.\n",
      "  from ._conv import register_converters as _register_converters\n"
     ]
    }
   ],
   "source": [
    "import numpy as np\n",
    "import tensorflow as tf"
   ]
  },
  {
   "cell_type": "markdown",
   "metadata": {},
   "source": [
    "# Load MNIST"
   ]
  },
  {
   "cell_type": "code",
   "execution_count": 2,
   "metadata": {},
   "outputs": [
    {
     "name": "stdout",
     "output_type": "stream",
     "text": [
      "Extracting MNIST_data/train-images-idx3-ubyte.gz\n",
      "Extracting MNIST_data/train-labels-idx1-ubyte.gz\n",
      "Extracting MNIST_data/t10k-images-idx3-ubyte.gz\n",
      "Extracting MNIST_data/t10k-labels-idx1-ubyte.gz\n"
     ]
    }
   ],
   "source": [
    "from tensorflow.examples.tutorials.mnist import input_data\n",
    "mnist = input_data.read_data_sets(\"MNIST_data/\", one_hot=True)"
   ]
  },
  {
   "cell_type": "markdown",
   "metadata": {},
   "source": [
    "# Define Model (Estimator)"
   ]
  },
  {
   "cell_type": "code",
   "execution_count": 3,
   "metadata": {
    "scrolled": false
   },
   "outputs": [
    {
     "name": "stdout",
     "output_type": "stream",
     "text": [
      "INFO:tensorflow:Using default config.\n",
      "WARNING:tensorflow:Using temporary folder as model directory: C:\\Users\\silver\\AppData\\Local\\Temp\\tmpyms9mkwm\n",
      "INFO:tensorflow:Using config: {'_model_dir': 'C:\\\\Users\\\\silver\\\\AppData\\\\Local\\\\Temp\\\\tmpyms9mkwm', '_num_worker_replicas': 1, '_session_config': None, '_master': '', '_save_checkpoints_secs': 600, '_log_step_count_steps': 100, '_task_id': 0, '_save_summary_steps': 100, '_save_checkpoints_steps': None, '_task_type': 'worker', '_service': None, '_is_chief': True, '_tf_random_seed': None, '_num_ps_replicas': 0, '_cluster_spec': <tensorflow.python.training.server_lib.ClusterSpec object at 0x000001D7D35D1240>, '_keep_checkpoint_max': 5, '_keep_checkpoint_every_n_hours': 10000}\n"
     ]
    }
   ],
   "source": [
    "def model_fn(features, labels, mode):\n",
    "    # Define Model parameters\n",
    "    W = tf.Variable(tf.zeros([784, 10]))\n",
    "    b = tf.Variable(tf.zeros([10]))\n",
    "    \n",
    "    # Define Model structure  y = f(x)\n",
    "    y = tf.matmul(features['x'], W) + b\n",
    "    \n",
    "    # Define Model Loss\n",
    "    cross_entropy = tf.reduce_mean(tf.nn.softmax_cross_entropy_with_logits(labels=labels, logits=y))\n",
    "    \n",
    "    # Define Optimizer and step\n",
    "    global_step = tf.train.get_global_step()\n",
    "    optimizer = tf.train.GradientDescentOptimizer(0.5)\n",
    "    train = tf.group(optimizer.minimize(cross_entropy),\n",
    "                     tf.assign_add(global_step, 1))\n",
    "    \n",
    "    # Define other evaluation metrics \n",
    "    eval_metric_ops = {\n",
    "      \"accuracy\": tf.metrics.accuracy(tf.argmax(labels,1), tf.argmax(y,1))\n",
    "    }\n",
    "    return tf.estimator.EstimatorSpec(\n",
    "              mode=mode,\n",
    "              predictions=y,\n",
    "              loss=cross_entropy,\n",
    "              train_op=train,\n",
    "              eval_metric_ops=eval_metric_ops)\n",
    "\n",
    "x_train = mnist.train.images\n",
    "y_train = mnist.train.labels.astype(\"float32\")\n",
    "x_eval = mnist.test.images\n",
    "y_eval = mnist.test.labels.astype(\"float32\")\n",
    "\n",
    "estimator = tf.estimator.Estimator(model_fn=model_fn)\n",
    "# define the training & evaluation settings\n",
    "input_fn = tf.estimator.inputs.numpy_input_fn(\n",
    "                {\"x\": x_train},\n",
    "                y_train,\n",
    "                batch_size=128,\n",
    "                num_epochs=None,\n",
    "                shuffle=True)\n",
    "train_input_fn = tf.estimator.inputs.numpy_input_fn(\n",
    "                {\"x\": x_train},\n",
    "                y_train,\n",
    "                batch_size=128,\n",
    "                num_epochs=1,\n",
    "                shuffle=False)\n",
    "eval_input_fn = tf.estimator.inputs.numpy_input_fn(\n",
    "                {\"x\": x_eval},\n",
    "                y_eval,\n",
    "                batch_size=128,\n",
    "                num_epochs=1,\n",
    "                shuffle=False)"
   ]
  },
  {
   "cell_type": "markdown",
   "metadata": {},
   "source": [
    "# Training & Evaluation"
   ]
  },
  {
   "cell_type": "code",
   "execution_count": 4,
   "metadata": {},
   "outputs": [
    {
     "name": "stdout",
     "output_type": "stream",
     "text": [
      "INFO:tensorflow:Create CheckpointSaverHook.\n",
      "INFO:tensorflow:Saving checkpoints for 1 into C:\\Users\\silver\\AppData\\Local\\Temp\\tmpyms9mkwm\\model.ckpt.\n",
      "INFO:tensorflow:step = 1, loss = 2.3025851\n",
      "INFO:tensorflow:global_step/sec: 422.175\n",
      "INFO:tensorflow:step = 101, loss = 0.24772504 (0.240 sec)\n",
      "INFO:tensorflow:global_step/sec: 574.304\n",
      "INFO:tensorflow:step = 201, loss = 0.3562895 (0.173 sec)\n",
      "INFO:tensorflow:global_step/sec: 446.069\n",
      "INFO:tensorflow:step = 301, loss = 0.311449 (0.225 sec)\n",
      "INFO:tensorflow:global_step/sec: 577.624\n",
      "INFO:tensorflow:step = 401, loss = 0.39457712 (0.173 sec)\n",
      "INFO:tensorflow:global_step/sec: 470.675\n",
      "INFO:tensorflow:step = 501, loss = 0.29495654 (0.214 sec)\n",
      "INFO:tensorflow:global_step/sec: 580.459\n",
      "INFO:tensorflow:step = 601, loss = 0.24754982 (0.171 sec)\n",
      "INFO:tensorflow:global_step/sec: 587.666\n",
      "INFO:tensorflow:step = 701, loss = 0.28392836 (0.170 sec)\n",
      "INFO:tensorflow:global_step/sec: 562.914\n",
      "INFO:tensorflow:step = 801, loss = 0.33547294 (0.178 sec)\n",
      "INFO:tensorflow:global_step/sec: 582.676\n",
      "INFO:tensorflow:step = 901, loss = 0.15572912 (0.172 sec)\n",
      "INFO:tensorflow:Saving checkpoints for 1000 into C:\\Users\\silver\\AppData\\Local\\Temp\\tmpyms9mkwm\\model.ckpt.\n",
      "INFO:tensorflow:Loss for final step: 0.33369988.\n",
      "INFO:tensorflow:Starting evaluation at 2018-02-08-05:50:50\n",
      "INFO:tensorflow:Restoring parameters from C:\\Users\\silver\\AppData\\Local\\Temp\\tmpyms9mkwm\\model.ckpt-1000\n",
      "INFO:tensorflow:Finished evaluation at 2018-02-08-05:50:51\n",
      "INFO:tensorflow:Saving dict for global step 1000: accuracy = 0.9191091, global_step = 1000, loss = 0.28969836\n",
      "INFO:tensorflow:Starting evaluation at 2018-02-08-05:50:52\n",
      "INFO:tensorflow:Restoring parameters from C:\\Users\\silver\\AppData\\Local\\Temp\\tmpyms9mkwm\\model.ckpt-1000\n",
      "INFO:tensorflow:Finished evaluation at 2018-02-08-05:50:52\n",
      "INFO:tensorflow:Saving dict for global step 1000: accuracy = 0.9196, global_step = 1000, loss = 0.28369507\n",
      "\n",
      "Train Accuracy: 0.919109\n",
      "\n",
      "\n",
      "Test Accuracy: 0.919600\n",
      "\n"
     ]
    }
   ],
   "source": [
    "# Training\n",
    "estimator.train(input_fn=input_fn, steps=1000)\n",
    "\n",
    "# evaluation\n",
    "train_metrics = estimator.evaluate(input_fn=train_input_fn)[\"accuracy\"]\n",
    "eval_metrics = estimator.evaluate(input_fn=eval_input_fn)[\"accuracy\"]\n",
    "print(\"\\nTrain Accuracy: {0:f}\\n\".format(train_metrics))\n",
    "print(\"\\nTest Accuracy: {0:f}\\n\".format(eval_metrics))"
   ]
  }
 ],
 "metadata": {
  "kernelspec": {
   "display_name": "Python 3",
   "language": "python",
   "name": "python3"
  },
  "language_info": {
   "codemirror_mode": {
    "name": "ipython",
    "version": 3
   },
   "file_extension": ".py",
   "mimetype": "text/x-python",
   "name": "python",
   "nbconvert_exporter": "python",
   "pygments_lexer": "ipython3",
   "version": "3.5.3"
  }
 },
 "nbformat": 4,
 "nbformat_minor": 2
}
